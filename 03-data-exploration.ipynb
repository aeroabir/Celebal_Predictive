{
 "cells": [
  {
   "cell_type": "markdown",
   "metadata": {},
   "source": [
    "## Data Exploration & Visualization"
   ]
  },
  {
   "cell_type": "code",
   "execution_count": null,
   "metadata": {},
   "outputs": [],
   "source": [
    "import datetime\n",
    "import pandas as pd\n",
    "import random\n",
    "import matplotlib.pyplot as plt"
   ]
  },
  {
   "cell_type": "code",
   "execution_count": null,
   "metadata": {},
   "outputs": [],
   "source": [
    "inv_df = pd.read_csv('all_inverters.csv')\n",
    "inv_df.head()"
   ]
  },
  {
   "cell_type": "code",
   "execution_count": null,
   "metadata": {},
   "outputs": [],
   "source": [
    "target_codes = [7006, 3511, 7502, 7501, 3504, 6448, 1500, 7704]\n",
    "alarm_df = pd.read_csv('all_alarms.csv')\n",
    "alarm_df = alarm_df[alarm_df[\"Error Code\"].isin(target_codes)]\n",
    "alarm_df = alarm_df[(alarm_df.hod >= 6) & (alarm_df.hod <= 17)]  # original (6,17)\n",
    "print(alarm_df.shape)\n",
    "alarm_df.head()"
   ]
  },
  {
   "cell_type": "code",
   "execution_count": null,
   "metadata": {},
   "outputs": [],
   "source": [
    "inverters = sorted(alarm_df[\"Controller Name\"].unique().tolist())\n",
    "inverters"
   ]
  },
  {
   "cell_type": "code",
   "execution_count": null,
   "metadata": {},
   "outputs": [],
   "source": [
    "alarm_df['Error Code']"
   ]
  },
  {
   "cell_type": "code",
   "execution_count": null,
   "metadata": {},
   "outputs": [],
   "source": [
    "inverter_name = 'INV-19'\n",
    "num_past_days = 7\n",
    "plot_count = 5\n",
    "alarm_plot = [7502, 1500]\n",
    "plotcols = ['date',\n",
    "            'IN.GMRX.CHAR.'+inverter_name+'.Active Power (kW)', \n",
    "#             'IN.GMRX.CHAR.WS-20 MW.Ambient Temperature (°C)', # all nulls\n",
    "            'IN.GMRX.CHAR.WS-20 MW.Module Temperature (°C)',\n",
    "            'IN.GMRX.CHAR.WS-20 MW.POA Irradiance (w/m²)',\n",
    "#             'IN.GMRX.CHAR.WS-5 MW.Ambient Temperature (°C)',  # all nulls\n",
    "#             'IN.GMRX.CHAR.WS-5 MW.Module Temperature (°C)',\n",
    "#             'IN.GMRX.CHAR.WS-5 MW.POA Irradiance (w/m²)'\n",
    "           ]\n",
    " \n",
    "inverter_index = inverters.index(inverter_name)\n",
    "alarm_df_i = alarm_df[alarm_df[\"Controller Name\"] == inverters[inverter_index]].copy()\n",
    "alarm_df_i['Raised Time'] = pd.to_datetime(alarm_df_i['Raised Time'])\n",
    "print(\"Number of alarms:\", alarm_df_i.shape[0])\n",
    "\n",
    "columns = ['Time', 'date',\n",
    "           'IN.GMRX.CHAR.'+inverter_name+'.Active Power (kW)', \n",
    "#            'IN.GMRX.CHAR.WS-20 MW.Ambient Temperature (°C)',\n",
    "           'IN.GMRX.CHAR.WS-20 MW.Module Temperature (°C)',\n",
    "           'IN.GMRX.CHAR.WS-20 MW.POA Irradiance (w/m²)',\n",
    "#            'IN.GMRX.CHAR.WS-5 MW.Ambient Temperature (°C)',\n",
    "#            'IN.GMRX.CHAR.WS-5 MW.Module Temperature (°C)',\n",
    "#            'IN.GMRX.CHAR.WS-5 MW.POA Irradiance (w/m²)'\n",
    "          ]\n",
    "inv_df_i = inv_df[columns].copy()\n",
    "inv_df_i['date'] = pd.to_datetime(inv_df_i[\"date\"])\n",
    "print(inv_df_i.shape)\n",
    "\n",
    "num_rows = num_past_days * 24 * 12\n",
    "count, count_pair = 0, 0\n",
    "for ii, row in alarm_df_i.iterrows():\n",
    "    if row['Error Code'] in alarm_plot:\n",
    "        df_ = inv_df_i[pd.to_datetime(inv_df_i['date']) < pd.to_datetime(row['Raised Time'])]\n",
    "        df_ = df_.sort_values('date').reset_index(drop=True)\n",
    "    #     print(ii, row['Error Code'], row['Raised Time'], df_['date'].max())\n",
    "        df_plot = df_.tail(num_rows)\n",
    "        if random.random() > 0.5:\n",
    "            df_plot[plotcols].plot(x=\"date\", title=str(row['Error Code']) + '-' + str(row['Raised Time']))\n",
    "            count += 1\n",
    "        if count > plot_count:\n",
    "            break"
   ]
  },
  {
   "cell_type": "code",
   "execution_count": null,
   "metadata": {},
   "outputs": [],
   "source": [
    "alarm_df[alarm_df['Error Code'].isin(alarm_plot)]['Controller Name'].value_counts()"
   ]
  },
  {
   "cell_type": "code",
   "execution_count": null,
   "metadata": {},
   "outputs": [],
   "source": [
    "pd.crosstab(alarm_df['Controller Name'], alarm_df['Error Code'])"
   ]
  },
  {
   "cell_type": "code",
   "execution_count": null,
   "metadata": {},
   "outputs": [],
   "source": [
    "alarm_df['Error Code'].value_counts()"
   ]
  },
  {
   "cell_type": "code",
   "execution_count": null,
   "metadata": {},
   "outputs": [],
   "source": [
    "num_past_days = 10\n",
    "num_rows = num_past_days * 24 * 12\n",
    "count, count_pair = 0, 0\n",
    "for ii, row in alarm_df_i.iterrows():\n",
    "    end_time = row['Raised Time']\n",
    "    start_time = pd.to_datetime(end_time) - pd.Timedelta(num_past_days, 'D')\n",
    "    print(start_time, end_time)\n",
    "    sys.exit()"
   ]
  },
  {
   "cell_type": "code",
   "execution_count": null,
   "metadata": {},
   "outputs": [],
   "source": [
    "start_time.date()"
   ]
  },
  {
   "cell_type": "code",
   "execution_count": null,
   "metadata": {},
   "outputs": [],
   "source": [
    "t = start_time.date()\n",
    "t.strftime('%Y-%m-%d')"
   ]
  },
  {
   "cell_type": "code",
   "execution_count": null,
   "metadata": {},
   "outputs": [],
   "source": [
    "def get_all_days(start, end, date_format):\n",
    "    days = []\n",
    "    current = start\n",
    "    t = current.date()\n",
    "    days.append(t.strftime('%Y-%m-%d'))\n",
    "    while current < end:\n",
    "        current += pd.Timedelta(1, 'D')\n",
    "        t = current.date()\n",
    "        days.append(t.strftime('%Y-%m-%d'))\n",
    "    return days\n",
    "\n",
    "def get_smb_data(dates, data_dir):\n",
    "    df = []\n",
    "    for d in dates:\n",
    "        year, month, day = d.split('-')\n",
    "        print(year[2:])\n",
    "        file = 'min'+year[2:]+month+day+'_smb.csv'\n",
    "        df_ = pd.read_csv(os.path.join(data_dir, file))\n",
    "        df.append(df_)\n",
    "    df = pd.concat(df, axis=0)\n",
    "    return df"
   ]
  },
  {
   "cell_type": "code",
   "execution_count": null,
   "metadata": {},
   "outputs": [],
   "source": [
    "ds = get_all_days(start_time, end_time, '%Y-%m-%d')\n",
    "df = get_smb_data(ds, data_dir='data/SMB/')"
   ]
  },
  {
   "cell_type": "code",
   "execution_count": null,
   "metadata": {},
   "outputs": [],
   "source": [
    "raised = alarm_df_i.groupby(\"Error Code\").apply(lambda x: [sorted(list(x['Raised Time']))]).apply(pd.Series)"
   ]
  },
  {
   "cell_type": "code",
   "execution_count": null,
   "metadata": {},
   "outputs": [],
   "source": [
    "def get_features_single_alarm(inverter_df, fail_time, past_days, features):\n",
    "    df_ = inverter_df[pd.to_datetime(inverter_df['date']) < pd.to_datetime(fail_time)].copy()\n",
    "    df_ = df_[df_['date'] >= pd.to_datetime(fail_time) - pd.Timedelta(past_days, 'D')]\n",
    "    df_ = df_.sort_values('date').reset_index(drop=True)\n",
    "    df_ = df_[features]\n",
    "    return df_.values"
   ]
  },
  {
   "cell_type": "code",
   "execution_count": null,
   "metadata": {},
   "outputs": [],
   "source": [
    "row['Raised Time'], row['Raised Time'] - pd.Timedelta(1, 'D')"
   ]
  },
  {
   "cell_type": "code",
   "execution_count": null,
   "metadata": {},
   "outputs": [],
   "source": [
    "feature_cols = ['IN.GMRX.CHAR.INV-01.Active Power (kW)', \n",
    "                'IN.GMRX.CHAR.WS-20 MW.Ambient Temperature (°C)']\n",
    "dx = get_features_single_alarm(inv_df_i, row['Raised Time'], 3, feature_cols)\n",
    "# dx['date'].min(), dx['date'].max(), row['Raised Time']"
   ]
  },
  {
   "cell_type": "code",
   "execution_count": null,
   "metadata": {},
   "outputs": [],
   "source": [
    "plt.plot(dx[:,1])"
   ]
  },
  {
   "cell_type": "code",
   "execution_count": null,
   "metadata": {},
   "outputs": [],
   "source": [
    "import os\n",
    "\n",
    "os.getcwd()"
   ]
  },
  {
   "cell_type": "code",
   "execution_count": null,
   "metadata": {},
   "outputs": [],
   "source": []
  }
 ],
 "metadata": {
  "kernelspec": {
   "display_name": "Python 3.6 - AzureML",
   "language": "python",
   "name": "python3-azureml"
  },
  "language_info": {
   "codemirror_mode": {
    "name": "ipython",
    "version": 3
   },
   "file_extension": ".py",
   "mimetype": "text/x-python",
   "name": "python",
   "nbconvert_exporter": "python",
   "pygments_lexer": "ipython3",
   "version": "3.6.9"
  }
 },
 "nbformat": 4,
 "nbformat_minor": 4
}
