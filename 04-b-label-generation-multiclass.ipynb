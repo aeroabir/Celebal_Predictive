{
 "cells": [
  {
   "cell_type": "markdown",
   "metadata": {},
   "source": [
    "## Generate labels for Alarm Type Prediction"
   ]
  },
  {
   "cell_type": "code",
   "execution_count": null,
   "metadata": {},
   "outputs": [],
   "source": [
    "import datetime\n",
    "import numpy as np\n",
    "import pandas as pd\n",
    "import random\n",
    "import matplotlib.pyplot as plt\n",
    "from tqdm import tqdm\n",
    "import seaborn as sns\n",
    "import pickle"
   ]
  },
  {
   "cell_type": "code",
   "execution_count": null,
   "metadata": {},
   "outputs": [],
   "source": [
    "inv_df = pd.read_csv('all_inverters.csv')\n",
    "# inv_df.head()\n",
    "\n",
    "target_codes = [7006, 3511, 7502, 7501, 3504, 6448, 1500, 7704]\n",
    "alarm_df = pd.read_csv('all_alarms.csv')\n",
    "alarm_df = alarm_df[alarm_df[\"Error Code\"].isin(target_codes)]\n",
    "alarm_df = alarm_df[(alarm_df.hod >= 6) & (alarm_df.hod <= 18)]  # original (6,17)\n",
    "print(alarm_df.shape)\n",
    "inverters = sorted(alarm_df[\"Controller Name\"].unique().tolist())"
   ]
  },
  {
   "cell_type": "code",
   "execution_count": null,
   "metadata": {},
   "outputs": [],
   "source": [
    "alarm_df.head()"
   ]
  },
  {
   "cell_type": "code",
   "execution_count": null,
   "metadata": {},
   "outputs": [],
   "source": [
    "with open('inverter-labels-v3.pkl', 'rb') as handle:\n",
    "    inv_labels = pickle.load(handle)"
   ]
  },
  {
   "cell_type": "code",
   "execution_count": null,
   "metadata": {},
   "outputs": [],
   "source": [
    "label_df = {'inverters': [], 'positive': [], 'negative': []}\n",
    "label_col = 'label_24h'\n",
    "for inv in inv_labels.keys():\n",
    "    x = inv_labels[inv]\n",
    "    y = dict(x[label_col].value_counts())\n",
    "    label_df['inverters'].append(inv)\n",
    "    if 1 in y:\n",
    "        label_df['positive'].append(y[1])\n",
    "    else:\n",
    "        label_df['positive'].append(0)\n",
    "    label_df['negative'].append(y[0])\n",
    "label_df = pd.DataFrame(label_df)\n",
    "label_df"
   ]
  },
  {
   "cell_type": "code",
   "execution_count": null,
   "metadata": {},
   "outputs": [],
   "source": [
    "df_i = inv_labels['INV-01']\n",
    "df_i = df_i[df_i['label_24h']==1]\n",
    "print(df_i.shape[0])\n",
    "df_i = df_i[(df_i['date'].dt.hour == 6) & (df_i.date.dt.minute==0)].copy()\n",
    "df_i.shape"
   ]
  },
  {
   "cell_type": "code",
   "execution_count": null,
   "metadata": {},
   "outputs": [],
   "source": [
    "df_i = inv_labels['INV-01']\n",
    "df_i = df_i[df_i['label']==1]\n",
    "print(df_i.shape[0])\n",
    "# df_i = df_i[(df_i['date'].dt.year == 2019) & (df_i.date.dt.month==5)].copy()\n",
    "df_i.shape"
   ]
  },
  {
   "cell_type": "code",
   "execution_count": null,
   "metadata": {},
   "outputs": [],
   "source": [
    "df_i.to_csv('inv_01.csv')"
   ]
  },
  {
   "cell_type": "markdown",
   "metadata": {},
   "source": [
    "Label Generation for Multi-Class Classification\n",
    "\n",
    "    - for each data point where the previous label is 1 (i.e., there is at least one alarm in the next 24 hours) get all the alarm numbers from the alarm_df\n",
    "    - since there could be multiple alarms and each alarm can have more than count the labels are actually a count of each alarm type"
   ]
  },
  {
   "cell_type": "code",
   "execution_count": null,
   "metadata": {},
   "outputs": [],
   "source": [
    "def concat_alarms(dt, df_):\n",
    "    df = df_[(df_['Raised Time'] > dt) & (df_['Raised Time'] <= dt + pd.Timedelta(1, 'D'))]\n",
    "    return df['Error Code'].to_list()\n",
    "\n",
    "feature_dfs = dict()\n",
    "for inv in inv_labels.keys():\n",
    "    df_inv = inv_labels[inv]\n",
    "    df_inv = df_inv[df_inv.label_24h==1].copy(deep=True)\n",
    "    \n",
    "    alarm_df_i = alarm_df[alarm_df[\"Controller Name\"] == inv].copy()\n",
    "    alarm_df_i['Raised Time'] = pd.to_datetime(alarm_df_i['Raised Time'])\n",
    "    alarm_df_i = alarm_df_i.sort_values('Raised Time').reset_index(drop=True)\n",
    "    alarm_min, alarm_max = alarm_df_i['Raised Time'].min(), alarm_df_i['Raised Time'].max()\n",
    "\n",
    "    # generate the labels for multi-class classification\n",
    "    df_inv['alarm_24h_concat'] = df_inv['date'].apply(lambda x: concat_alarms(x, alarm_df_i))\n",
    "    for t in target_codes:\n",
    "        df_inv['count_'+str(t)] = df_inv['alarm_24h_concat'].apply(lambda x: x.count(t))\n",
    "\n",
    "    x = df_inv.copy(deep=True)\n",
    "    feature_dfs[inv] = x\n",
    "    print(f\"{inv} #alarms: {alarm_df_i.shape[0]}, #data-points: {df_inv.shape[0]}\")\n"
   ]
  },
  {
   "cell_type": "code",
   "execution_count": null,
   "metadata": {},
   "outputs": [],
   "source": [
    "feature_dfs['INV-01']"
   ]
  },
  {
   "cell_type": "code",
   "execution_count": null,
   "metadata": {},
   "outputs": [],
   "source": [
    "all_dfs = []\n",
    "for inv in inv_labels.keys():\n",
    "    x = feature_dfs[inv]\n",
    "    x['inverter'] = inv\n",
    "    all_dfs.append(x)\n",
    "all_dfs = pd.concat(all_dfs)\n",
    "all_dfs.shape"
   ]
  },
  {
   "cell_type": "code",
   "execution_count": null,
   "metadata": {},
   "outputs": [],
   "source": [
    "# if we take only at 6 AM then many examples are dropped\n",
    "# all_dfs = all_dfs[(all_dfs['date'].dt.hour == 6) & (all_dfs.date.dt.minute==0)].copy()\n",
    "all_dfs['only_date'] = all_dfs['date'].dt.date\n",
    "all_dfs = all_dfs.groupby(['inverter', 'only_date']).first()\n",
    "all_dfs = all_dfs.reset_index(drop=False)\n",
    "all_dfs"
   ]
  },
  {
   "cell_type": "code",
   "execution_count": null,
   "metadata": {},
   "outputs": [],
   "source": [
    "for t in target_codes:\n",
    "    all_dfs['label_'+str(t)] = np.where(all_dfs['count_'+str(t)] > 0, 1, 0)\n",
    "    print(t, all_dfs['label_'+str(t)].value_counts(), all_dfs['label_'+str(t)].value_counts(True))"
   ]
  },
  {
   "cell_type": "code",
   "execution_count": null,
   "metadata": {},
   "outputs": [],
   "source": [
    "all_dfs.columns"
   ]
  },
  {
   "cell_type": "code",
   "execution_count": null,
   "metadata": {},
   "outputs": [],
   "source": [
    "all_dfs.to_csv('multiclass_labels.csv', index=False)"
   ]
  },
  {
   "cell_type": "code",
   "execution_count": null,
   "metadata": {},
   "outputs": [],
   "source": [
    "all_dfs[all_dfs.inverter=='INV-01'][['date', 'label_24h', 'alarm_24h_concat']].to_csv('inv_01.csv')"
   ]
  },
  {
   "cell_type": "code",
   "execution_count": null,
   "metadata": {},
   "outputs": [],
   "source": [
    "alarm_df_i = alarm_df[alarm_df[\"Controller Name\"] == 'INV-01'].copy()\n",
    "alarm_df_i['Raised Time'] = pd.to_datetime(alarm_df_i['Raised Time'])\n",
    "alarm_df_i = alarm_df_i.sort_values(by=['Raised Time'])\n",
    "\n",
    "alarm_df_i\n",
    "# alarm_df_i = alarm_df_i.sort_values('Raised Time').reset_index(drop=True)\n",
    "# alarm_df_i[(alarm_df_i['Raised Time'].dt.year==2020) & (alarm_df_i['Raised Time'].dt.month==2)  & (alarm_df_i['Raised Time'].dt.day==8)]"
   ]
  },
  {
   "cell_type": "code",
   "execution_count": null,
   "metadata": {},
   "outputs": [],
   "source": [
    "alarm_df_i.to_csv('inv_01.csv')"
   ]
  },
  {
   "cell_type": "code",
   "execution_count": null,
   "metadata": {},
   "outputs": [],
   "source": [
    "all_dfs[['count_'+str(t) for t in target_codes]].describe()"
   ]
  },
  {
   "cell_type": "code",
   "execution_count": null,
   "metadata": {},
   "outputs": [],
   "source": [
    "all_dfs[all_dfs['count_7006']==334]"
   ]
  },
  {
   "cell_type": "code",
   "execution_count": null,
   "metadata": {},
   "outputs": [],
   "source": [
    "alarm_df_i = alarm_df[alarm_df[\"Controller Name\"] == 'INV-20'].copy()\n",
    "alarm_df_i['Raised Time'] = pd.to_datetime(alarm_df_i['Raised Time'])\n",
    "alarm_df_i = alarm_df_i.sort_values('Raised Time').reset_index(drop=True)\n",
    "alarm_df_i[(alarm_df_i['Raised Time'].dt.year==2020) & (alarm_df_i['Raised Time'].dt.month==2)  & (alarm_df_i['Raised Time'].dt.day==8)]\n",
    "# alarm_df_i[alarm_df_i['Raised Time'].dt.date=='2020-02-08']"
   ]
  },
  {
   "cell_type": "code",
   "execution_count": null,
   "metadata": {},
   "outputs": [],
   "source": []
  }
 ],
 "metadata": {
  "kernelspec": {
   "display_name": "Python 3.6 - AzureML",
   "language": "python",
   "name": "python3-azureml"
  },
  "language_info": {
   "codemirror_mode": {
    "name": "ipython",
    "version": 3
   },
   "file_extension": ".py",
   "mimetype": "text/x-python",
   "name": "python",
   "nbconvert_exporter": "python",
   "pygments_lexer": "ipython3",
   "version": "3.6.9"
  }
 },
 "nbformat": 4,
 "nbformat_minor": 4
}
