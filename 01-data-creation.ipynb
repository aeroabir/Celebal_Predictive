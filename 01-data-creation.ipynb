{
 "cells": [
  {
   "cell_type": "markdown",
   "metadata": {},
   "source": [
    "## Notebook to Download raw data to the Working Folder"
   ]
  },
  {
   "cell_type": "code",
   "execution_count": null,
   "metadata": {},
   "outputs": [],
   "source": [
    "import pandas as pd\n",
    "import numpy as np\n",
    "import matplotlib.pyplot as plt\n",
    "import glob\n",
    "import azureml.core\n",
    "\n",
    "from azureml.core import Environment, Experiment, Workspace\n",
    "from azureml.core.compute import ComputeTarget, AmlCompute\n",
    "from azureml.core.runconfig import RunConfiguration\n",
    "from azureml.core.conda_dependencies import CondaDependencies\n",
    "from azureml.pipeline.steps import PythonScriptStep\n",
    "from azureml.pipeline.core import Pipeline, PublishedPipeline, PipelineEndpoint\n",
    "from azureml.pipeline.core.schedule import ScheduleRecurrence, Schedule, TimeZone\n",
    "from azureml.core import Run, Datastore, Dataset, Workspace\n",
    "\n",
    "from azureml.widgets import RunDetails\n",
    "\n",
    "from IPython.core.display import display, HTML\n",
    "\n",
    "# display(HTML(\"<style>.container { width:100% !important; }</style>\"))\n",
    "\n",
    "\n",
    "ws = Workspace.from_config()\n",
    "ds = ws.get_default_datastore()\n",
    "# ds_weblogs = Datastore.get(ws, 'weblogs')\n",
    "\n",
    "# cpu_cluster_name = 'abir-forecasting'\n",
    "\n",
    "print('Workspace Name: ' + ws.name, \n",
    "      'Azure Region: ' + ws.location, \n",
    "      'Subscription Id: ' + ws.subscription_id, \n",
    "      'Resource Group: ' + ws.resource_group, \n",
    "      sep = '\\n')"
   ]
  },
  {
   "cell_type": "code",
   "execution_count": null,
   "metadata": {},
   "outputs": [],
   "source": [
    "# history = Datastore.get(ws, \"gmr-history-data\")\n",
    "datastores = ws.datastores\n",
    "for name, datastore in datastores.items():\n",
    "    print(name, datastore.datastore_type)"
   ]
  },
  {
   "cell_type": "code",
   "execution_count": null,
   "metadata": {},
   "outputs": [],
   "source": [
    "blob_datastore_name='gmr' # Name of the datastore to workspace\n",
    "container_name=os.getenv(\"BLOB_CONTAINER\", \"gmr-history-data\") # Name of Azure blob container\n",
    "account_name=os.getenv(\"BLOB_ACCOUNTNAME\", \"ptplstorage\") # Storage account name\n",
    "account_key=os.getenv(\"BLOB_ACCOUNT_KEY\", \"+rs0KeAAF8+h/dwTB6rfbc1s11yxnrNLIytt3TWucvxdHnMIqiDQAodHzVyacOwNoXBAnIrpYkuUEvXA2elztw==\") # Storage account access key\n",
    "\n",
    "blob_datastore = Datastore.register_azure_blob_container(workspace=ws, \n",
    "                                                         datastore_name=blob_datastore_name, \n",
    "                                                         container_name=container_name, \n",
    "                                                         account_name=account_name,\n",
    "                                                         account_key=account_key)"
   ]
  },
  {
   "cell_type": "code",
   "execution_count": null,
   "metadata": {},
   "outputs": [],
   "source": [
    "# Get a named datastore from the current workspace\n",
    "datastore = Datastore.get(ws, datastore_name='gmr')"
   ]
  },
  {
   "cell_type": "code",
   "execution_count": null,
   "metadata": {},
   "outputs": [],
   "source": [
    "datastore"
   ]
  },
  {
   "cell_type": "code",
   "execution_count": null,
   "metadata": {},
   "outputs": [],
   "source": [
    "dataset = Dataset.File.from_files(path = [(datastore, 'GMR_Alarms/*.xlsx')])\n",
    "dataset.download('/mnt/batch/tasks/shared/LS_root/mounts/clusters/abir-msft/code/Abir/data/Alarms')"
   ]
  },
  {
   "cell_type": "code",
   "execution_count": null,
   "metadata": {},
   "outputs": [],
   "source": [
    "dataset = Dataset.File.from_files(path = [(datastore, 'Inverter/*.csv')])\n",
    "dataset.download('/mnt/batch/tasks/shared/LS_root/mounts/clusters/abir-msft/code/Abir/data/Inverter')"
   ]
  },
  {
   "cell_type": "code",
   "execution_count": null,
   "metadata": {},
   "outputs": [],
   "source": [
    "dataset = Dataset.File.from_files(path = [(datastore, 'SMB/*.csv')])\n",
    "dataset.download('/mnt/batch/tasks/shared/LS_root/mounts/clusters/abir-msft/code/Abir/data/SMB')"
   ]
  },
  {
   "cell_type": "code",
   "execution_count": null,
   "metadata": {},
   "outputs": [],
   "source": [
    "! ls /tmp/tmppugh863e"
   ]
  }
 ],
 "metadata": {
  "kernelspec": {
   "display_name": "Python 3.6 - AzureML",
   "language": "python",
   "name": "python3-azureml"
  },
  "language_info": {
   "codemirror_mode": {
    "name": "ipython",
    "version": 3
   },
   "file_extension": ".py",
   "mimetype": "text/x-python",
   "name": "python",
   "nbconvert_exporter": "python",
   "pygments_lexer": "ipython3",
   "version": "3.6.9"
  }
 },
 "nbformat": 4,
 "nbformat_minor": 4
}
