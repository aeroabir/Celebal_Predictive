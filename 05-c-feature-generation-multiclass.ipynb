{
 "cells": [
  {
   "cell_type": "markdown",
   "metadata": {},
   "source": [
    "## Feature Generation for Alarm Type Prediction\n",
    "\n",
    "    - loads labels generated before (04-b)"
   ]
  },
  {
   "cell_type": "code",
   "execution_count": null,
   "metadata": {},
   "outputs": [],
   "source": [
    "import numpy as np\n",
    "import pickle\n",
    "import pandas as pd\n",
    "import sys"
   ]
  },
  {
   "cell_type": "code",
   "execution_count": null,
   "metadata": {},
   "outputs": [],
   "source": [
    "label_df = pd.read_csv('multiclass_labels.csv')\n",
    "label_df['date'] = pd.to_datetime(label_df['date'])\n",
    "label_df"
   ]
  },
  {
   "cell_type": "code",
   "execution_count": null,
   "metadata": {},
   "outputs": [],
   "source": [
    "inv_df = pd.read_csv('all_inverters.csv')"
   ]
  },
  {
   "cell_type": "code",
   "execution_count": null,
   "metadata": {},
   "outputs": [],
   "source": [
    "np_funs = [np.mean, np.std, 'max', 'median']\n",
    "\n",
    "def rolling_features(df, start_step, window_size, funcs):\n",
    "    features = df.shift(start_step).rolling(window_size, min_periods=window_size).agg(funcs)\n",
    "    features.columns = [\"{}_{}{}\".format(x[0], x[1], str(window_size)) for x in features.columns]\n",
    "    return features\n",
    "\n",
    "def create_features(df, colnames, ROLLING_WINDOWS):\n",
    "    # Feature engineering\n",
    "    df[\"day\"] = df[TIMESTAMP_COL_NAME].apply(lambda x: x.day)\n",
    "    df[\"dayofweek\"] = df[TIMESTAMP_COL_NAME].apply(lambda x: x.dayofweek)\n",
    "    df[\"weekofyear\"] = df[TIMESTAMP_COL_NAME].apply(lambda x: x.isocalendar()[1])\n",
    "    df[\"month\"] = df[TIMESTAMP_COL_NAME].apply(lambda x: x.month)\n",
    "\n",
    "    # exclude the current time data - so shift rolling calcs by 1\n",
    "    start_step = 1 \n",
    "    for col in colnames:\n",
    "        for window in ROLLING_WINDOWS:\n",
    "            feats = rolling_features(df[[col]], start_step=1, window_size=window, funcs=np_funs).reset_index(drop=True)\n",
    "            df = pd.concat([df, feats], axis=1)\n",
    "    return df"
   ]
  },
  {
   "cell_type": "code",
   "execution_count": null,
   "metadata": {},
   "outputs": [],
   "source": [
    "windows = [x*12*24 for x in [1, 2, 3, 7, 14, 21, 30]]\n",
    "TIMESTAMP_COL_NAME = 'date'\n",
    "data = []\n",
    "label_col = 'label_7006'\n",
    "for inverter in label_df['inverter'].unique():\n",
    "    x = label_df[label_df.inverter==inverter]\n",
    "    y = dict(x[label_col].value_counts())\n",
    "    features = ['IN.GMRX.CHAR.'+inverter+'.Active Power (kW)', \n",
    "            'IN.GMRX.CHAR.WS-20 MW.Module Temperature (°C)',\n",
    "            'IN.GMRX.CHAR.WS-20 MW.POA Irradiance (w/m²)',\n",
    "            'IN.GMRX.CHAR.WS-5 MW.Module Temperature (°C)',\n",
    "            'IN.GMRX.CHAR.WS-5 MW.POA Irradiance (w/m²)'\n",
    "           ]\n",
    "    columns = ['date'] + features\n",
    "    inv_df_i = inv_df[columns].copy()\n",
    "    inv_df_i['date'] = pd.to_datetime(inv_df_i[\"date\"])\n",
    "    inv_df_i.rename(columns={'IN.GMRX.CHAR.'+inverter+'.Active Power (kW)': 'power',\n",
    "                            'IN.GMRX.CHAR.WS-20 MW.Module Temperature (°C)': 'temp1',\n",
    "                            'IN.GMRX.CHAR.WS-20 MW.POA Irradiance (w/m²)': 'rad1',\n",
    "                            'IN.GMRX.CHAR.WS-5 MW.Module Temperature (°C)': 'temp2',\n",
    "                            'IN.GMRX.CHAR.WS-5 MW.POA Irradiance (w/m²)': 'rad2'}, inplace=True)\n",
    "    inv_df_i['hour'] = inv_df_i.date.dt.hour\n",
    "    df_ = create_features(inv_df_i, colnames=['power', 'temp1', 'rad1'], ROLLING_WINDOWS=windows)\n",
    "    df_ = x.merge(df_, on='date', how='left')\n",
    "    df_['inverter'] = inverter\n",
    "    y = df_[label_col].value_counts()\n",
    "    print(inverter, x.shape[0], df_.shape[0], y[1], y[0], y[1]/(y[1]+y[0]))\n",
    "    data.append(df_)\n",
    "\n",
    "data = pd.concat(data, axis=0)\n",
    "data.shape"
   ]
  },
  {
   "cell_type": "code",
   "execution_count": null,
   "metadata": {},
   "outputs": [],
   "source": [
    "label_df['inverter'].unique()"
   ]
  },
  {
   "cell_type": "code",
   "execution_count": null,
   "metadata": {},
   "outputs": [],
   "source": [
    "df_['date']"
   ]
  },
  {
   "cell_type": "code",
   "execution_count": null,
   "metadata": {},
   "outputs": [],
   "source": [
    "x['date']"
   ]
  },
  {
   "cell_type": "code",
   "execution_count": null,
   "metadata": {},
   "outputs": [],
   "source": [
    "with open('inverter-data-v02.pkl', 'rb') as handle:\n",
    "    all_data = pickle.load(handle)\n",
    "    \n",
    "print(all_data.shape)\n",
    "# all_data.dropna(inplace=True)\n",
    "all_data.shape"
   ]
  },
  {
   "cell_type": "code",
   "execution_count": null,
   "metadata": {},
   "outputs": [],
   "source": [
    "k = 12 * 24  # 1 day means 12 * 24 data points\n",
    "dfg = all_data.groupby('inverter')\n",
    "ndata = []\n",
    "for inv, gdf in dfg:\n",
    "    gdf = gdf.sort_values('date').reset_index(drop=True)\n",
    "    n = gdf.shape[0]\n",
    "    gdf['y'] = np.nan\n",
    "    for ii in range(n-k):\n",
    "        start, end = ii, ii+k\n",
    "        lwindow = gdf.iloc[start : end]['label']\n",
    "        if lwindow.sum() > 0:\n",
    "            label = 1\n",
    "        else:\n",
    "            label = 0\n",
    "        gdf.loc[ii, 'y'] = label\n",
    "    gdf = gdf[~gdf.y.isnull()]\n",
    "    sys.exit()\n",
    "    ndata.append(gdf)"
   ]
  },
  {
   "cell_type": "code",
   "execution_count": null,
   "metadata": {},
   "outputs": [],
   "source": [
    "min_date, max_date = gdf['date'].min(), gdf['date'].max()"
   ]
  },
  {
   "cell_type": "code",
   "execution_count": null,
   "metadata": {},
   "outputs": [],
   "source": [
    "pd.date_range(start=min_date, end=max_date, freq=\"5min\")"
   ]
  },
  {
   "cell_type": "code",
   "execution_count": null,
   "metadata": {},
   "outputs": [],
   "source": [
    "gdf.shape"
   ]
  },
  {
   "cell_type": "code",
   "execution_count": null,
   "metadata": {},
   "outputs": [],
   "source": [
    "pd.to_datetime('2019-03-25 18:50:00') + pd.Timedelta(1, 'D')"
   ]
  }
 ],
 "metadata": {
  "kernelspec": {
   "display_name": "Python 3.6 - AzureML",
   "language": "python",
   "name": "python3-azureml"
  },
  "language_info": {
   "codemirror_mode": {
    "name": "ipython",
    "version": 3
   },
   "file_extension": ".py",
   "mimetype": "text/x-python",
   "name": "python",
   "nbconvert_exporter": "python",
   "pygments_lexer": "ipython3",
   "version": "3.6.9"
  }
 },
 "nbformat": 4,
 "nbformat_minor": 4
}
