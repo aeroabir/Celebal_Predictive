{
 "cells": [
  {
   "cell_type": "markdown",
   "metadata": {},
   "source": [
    "## Generates Labels for Binary Classification\n",
    "    \n",
    "    - probability of an alarm in the next 5 minutes (original label)\n",
    "    - simultaneously creates labels for 1 hour and 24 hours\n",
    "    - keeps track of number of missing data points in the past data\n",
    "    - filters data points where there are missing data in the last T-days (T=7)"
   ]
  },
  {
   "cell_type": "code",
   "execution_count": null,
   "metadata": {},
   "outputs": [],
   "source": [
    "import datetime\n",
    "import numpy as np\n",
    "import pandas as pd\n",
    "import random\n",
    "import matplotlib.pyplot as plt\n",
    "from tqdm import tqdm\n",
    "import seaborn as sns\n",
    "import pickle"
   ]
  },
  {
   "cell_type": "code",
   "execution_count": null,
   "metadata": {},
   "outputs": [],
   "source": [
    "inv_df = pd.read_csv('all_inverters.csv')\n",
    "# inv_df.head()\n",
    "\n",
    "target_codes = [7006, 3511, 7502, 7501, 3504, 6448, 1500, 7704]\n",
    "alarm_df = pd.read_csv('all_alarms.csv')\n",
    "alarm_df = alarm_df[alarm_df[\"Error Code\"].isin(target_codes)]\n",
    "alarm_df = alarm_df[(alarm_df.hod >= 6) & (alarm_df.hod <= 18)]  # original (6,17)\n",
    "print(alarm_df.shape)\n",
    "inverters = sorted(alarm_df[\"Controller Name\"].unique().tolist())\n",
    "\n",
    "# alarm_df.head()"
   ]
  },
  {
   "cell_type": "code",
   "execution_count": null,
   "metadata": {},
   "outputs": [],
   "source": [
    "alarm_df.head()"
   ]
  },
  {
   "cell_type": "markdown",
   "metadata": {},
   "source": [
    "## Generate Labels for all Inverters"
   ]
  },
  {
   "cell_type": "code",
   "execution_count": null,
   "metadata": {},
   "outputs": [],
   "source": [
    "def impute_data(df_original, colname, method='backward'):\n",
    "    \"\"\"\n",
    "        Data imputation based on past/future data for the same month/day/hour/minute\n",
    "        if method = 'backward' then only past data are used\n",
    "        if method = 'all' then all data (past and future) are used\n",
    "    \"\"\"\n",
    "\n",
    "    df_im = df_original.copy()\n",
    "    count_imputed = 0\n",
    "    missing_indices = df_original[df_original[colname].isna()].index\n",
    "    print(f\"Initially {len(missing_indices)} missing data points\")\n",
    "    filled_dates = []\n",
    "    \n",
    "    for ii in tqdm(missing_indices):\n",
    "    # for ii, row in tqdm(df_full.iterrows()):\n",
    "        row = df_full.iloc[ii]\n",
    "    #     print(df_im['power'].isna().sum())\n",
    "        if np.isnan(row[colname]):\n",
    "            if method == 'backward':\n",
    "                # only use data till now\n",
    "                df_ = df_full[:ii].copy()\n",
    "                df_ = df_[~df_[colname].isna()]\n",
    "            else:\n",
    "                df_ = df_full.copy()\n",
    "                df_ = df_[~df_[colname].isna()]\n",
    "            if df_.shape[0] == 0:\n",
    "                continue\n",
    "            try1 = df_[(df_.month==row['month']) & (df_.day==row['day']) & (df_.hour==row['hour']) & (df_.minute==row['minute'])]\n",
    "            if try1.shape[0] > 0:            \n",
    "                imputed_value = try1[colname].mean()\n",
    "                df_im.loc[ii, colname] = imputed_value\n",
    "                filled_dates.append(row['date'])\n",
    "                count_imputed += 1\n",
    "                continue\n",
    "            else:\n",
    "                try2 = df_[(df_.month==row['month']) & (df_.day==row['day']) & (df_.hour==row['hour'])]\n",
    "                if try2.shape[0] > 0:\n",
    "                    imputed_value = try2[colname].mean()\n",
    "                    df_im.loc[ii, colname] = imputed_value\n",
    "                    filled_dates.append(row['date'])\n",
    "                    count_imputed += 1\n",
    "                    continue\n",
    "                else:\n",
    "                    try3 = df_[(df_.month==row['month']) & (df_.day==row['day'])]\n",
    "                    if try3.shape[0] > 0:\n",
    "                        imputed_value = try3[colname].mean()\n",
    "                        df_im.loc[ii, colname] = imputed_value\n",
    "                        filled_dates.append(row['date'])\n",
    "                        count_imputed += 1\n",
    "                        continue\n",
    "    print(count_imputed, df_original['power'].isna().sum(), df_im['power'].isna().sum())\n",
    "    return df_im, filled_dates\n",
    "\n",
    "\n"
   ]
  },
  {
   "cell_type": "code",
   "execution_count": null,
   "metadata": {},
   "outputs": [],
   "source": [
    "TIMESTAMP_COL_NAME = 'date'\n",
    "POWER_COL = 'power'\n",
    "min_past_days = 7\n",
    "feature_dfs = dict()\n",
    "impute_data = False\n",
    "label_col = 'label_1h'\n",
    "\n",
    "# for inverter in ['INV-04']:\n",
    "for inverter in inverters:\n",
    "    features = ['IN.GMRX.CHAR.'+inverter+'.Active Power (kW)', \n",
    "    #             'IN.GMRX.CHAR.WS-20 MW.Ambient Temperature (°C)', # all nulls\n",
    "                'IN.GMRX.CHAR.WS-20 MW.Module Temperature (°C)',\n",
    "                'IN.GMRX.CHAR.WS-20 MW.POA Irradiance (w/m²)',\n",
    "    #             'IN.GMRX.CHAR.WS-5 MW.Ambient Temperature (°C)',  # all nulls\n",
    "                'IN.GMRX.CHAR.WS-5 MW.Module Temperature (°C)',\n",
    "                'IN.GMRX.CHAR.WS-5 MW.POA Irradiance (w/m²)'\n",
    "               ]\n",
    "    columns = ['date'] + features\n",
    "    alarm_df_i = alarm_df[alarm_df[\"Controller Name\"] == inverter].copy()\n",
    "    alarm_df_i['Raised Time'] = pd.to_datetime(alarm_df_i['Raised Time'])\n",
    "    alarm_df_i = alarm_df_i.sort_values('Raised Time').reset_index(drop=True)\n",
    "    alarm_min, alarm_max = alarm_df_i['Raised Time'].min(), alarm_df_i['Raised Time'].max()\n",
    "    print(f\"{inverter} #alarms: {alarm_df_i.shape[0]}\")\n",
    "    \n",
    "    data_min = alarm_min - pd.Timedelta(min_past_days, 'D')\n",
    "\n",
    "    inv_df_i = inv_df[columns].copy()\n",
    "#     print(inv_df_i.shape[0], len(set(inv_df_i['date'])))\n",
    "    \n",
    "    inv_df_i['date'] = pd.to_datetime(inv_df_i[\"date\"])\n",
    "    inv_df_i.rename(columns={'IN.GMRX.CHAR.'+inverter+'.Active Power (kW)': 'power',\n",
    "                            'IN.GMRX.CHAR.WS-20 MW.Module Temperature (°C)': 'temp1',\n",
    "                            'IN.GMRX.CHAR.WS-20 MW.POA Irradiance (w/m²)': 'rad1',\n",
    "                            'IN.GMRX.CHAR.WS-5 MW.Module Temperature (°C)': 'temp2',\n",
    "                            'IN.GMRX.CHAR.WS-5 MW.POA Irradiance (w/m²)': 'rad2'}, inplace=True)\n",
    "    inv_df_i['hour'] = inv_df_i.date.dt.hour\n",
    "#     inv_df_i = inv_df_i[(inv_df_i['date'] >= data_min) & (inv_df_i['date'] <= alarm_max)]\n",
    "    # inv_df_i = inv_df_i[(inv_df_i.hour >= 6) & (inv_df_i.hour <= 18)]\n",
    "    inv_df_i = inv_df_i.sort_values('date').reset_index(drop=True)\n",
    "#     print(inv_df_i.shape[0], len(set(inv_df_i['date'])))\n",
    "    \n",
    "    min_date, max_date = inv_df_i.date.min(), inv_df_i.date.max()\n",
    "    df_full = pd.DataFrame({TIMESTAMP_COL_NAME: pd.date_range(\n",
    "                            start=min_date, end=max_date, freq=\"5min\")}).merge(inv_df_i, on='date', how='left')\n",
    "    print(df_full[TIMESTAMP_COL_NAME].isna().sum(), df_full['power'].isna().sum())\n",
    "#     print(df_full.shape[0], len(set(df_full['date'])))\n",
    "    \n",
    "    # label generation - no impact of missing values since operation is happening on df_full\n",
    "    # label-1: generation for next 5 minutes (the original time interval)\n",
    "    # count how many alarms are generated till that time\n",
    "    df_full['count_alarm'] = df_full['date'].apply(lambda x: np.sum(alarm_df_i['Raised Time'] <= x))\n",
    "    \n",
    "    # how many alarms are generated between the next time and the current time\n",
    "    df_full['delta_alarm'] = df_full['count_alarm'].shift(-1) - df_full['count_alarm']\n",
    "    \n",
    "    # 1 if positive else 0 \n",
    "    df_full['label'] = np.where(df_full['delta_alarm'] > 0, 1, 0)\n",
    "#     print(df_full.shape[0], len(set(df_full['date'])))\n",
    "\n",
    "    # count how many alarms are generated in next one hours - more realistic/actionworthy label\n",
    "    df_full['count_alarm_1h'] = df_full['date'].apply(lambda x: np.sum(alarm_df_i['Raised Time'] <= x + pd.Timedelta(1, 'H')))\n",
    "    df_full['delta_alarm_1h'] = df_full['count_alarm_1h'] - df_full['count_alarm']\n",
    "    df_full['label_1h'] = np.where(df_full['delta_alarm_1h'] > 0, 1, 0)\n",
    "    \n",
    "    # count how many alarms are generated in next 24 hours - more realistic/actionworthy label\n",
    "    df_full['count_alarm_24h'] = df_full['date'].apply(lambda x: np.sum(alarm_df_i['Raised Time'] <= x + pd.Timedelta(1, 'D')))\n",
    "    df_full['delta_alarm_24h'] = df_full['count_alarm_24h'] - df_full['count_alarm']\n",
    "    df_full['label_24h'] = np.where(df_full['delta_alarm_24h'] > 0, 1, 0)\n",
    "    \n",
    "    y = dict(df_full[label_col].value_counts())\n",
    "    if 1 in y.keys():\n",
    "        print('Initial True labels', y[1])\n",
    "\n",
    "    # recalculate the hour and fill for the non-operational hours\n",
    "    df_full['year'] = df_full.date.dt.year\n",
    "    df_full['month'] = df_full.date.dt.month\n",
    "    df_full['day'] = df_full.date.dt.day\n",
    "    df_full['hour'] = df_full.date.dt.hour\n",
    "    df_full['minute'] = df_full.date.dt.minute\n",
    "    df_full.loc[(df_full['power'].isna()) & (df_full['hour'] > 18), 'power'] = 0\n",
    "    df_full.loc[(df_full['power'].isna()) & (df_full['hour'] < 6), 'power'] = 0\n",
    "    print(df_full[TIMESTAMP_COL_NAME].isna().sum(), df_full['power'].isna().sum())\n",
    "#     print(df_full.shape[0], len(set(df_full['date'])))\n",
    "\n",
    "    # impute data \n",
    "    if impute_data:\n",
    "        df_imputed, fill_dates = impute_data(df_full, colname='power', method='backward')\n",
    "        print(len(fill_dates), df_imputed['power'].isna().sum())\n",
    "    else:\n",
    "        fill_dates = []\n",
    "\n",
    "    # add these dates to inverter data\n",
    "    night_hours = df_full[(df_full['power'].isna()) & (df_full['hour'] > 18)]['date']\n",
    "    morning_hours = df_full[(df_full['power'].isna()) & (df_full['hour'] < 6)]['date']\n",
    "\n",
    "#     print(df_full.shape[0], len(set(df_full['date'])))\n",
    "    # get the missing dates\n",
    "    full_dates = df_full['date'].to_list()\n",
    "    inv_dates = set(inv_df_i['date'].to_list() +\\\n",
    "                    night_hours.to_list() +\\\n",
    "                    morning_hours.to_list() +\\\n",
    "                    fill_dates\n",
    "                   )\n",
    "\n",
    "    last_na = None\n",
    "    count_na = 0\n",
    "    na_col = []\n",
    "    for ii, dd in enumerate(full_dates):\n",
    "        if dd not in inv_dates:\n",
    "            last_na = ii\n",
    "            count_na += 1\n",
    "        if count_na > 0:\n",
    "            na_col.append(ii-last_na)\n",
    "        else:\n",
    "            na_col.append(ii)\n",
    "\n",
    "    # filter if minimum history is not available\n",
    "    df_full['count_na'] = na_col\n",
    "    df_full = df_full[df_full['count_na'] >= min_past_days * 24 * 12]\n",
    "#     print(df_full.shape[0], len(set(df_full['date'])))\n",
    "    \n",
    "    y = dict(df_full[label_col].value_counts())\n",
    "    if 1 in y.keys():\n",
    "        print('... True labels (history)', y[1])\n",
    "    \n",
    "    # filter for operating hours\n",
    "    df_full = df_full[(df_full.hour >= 6) & (df_full.hour <= 18)]\n",
    "#     print(df_full.shape[0], len(set(df_full['date'])))\n",
    "    y = dict(df_full[label_col].value_counts())\n",
    "    if 1 in y.keys():\n",
    "        print('... True labels (operation)', y[1])\n",
    "\n",
    "    # filter for alarm timings\n",
    "#     print(data_min, alarm_max, df_full.date.min(), df_full.date.max())\n",
    "    df_full = df_full[df_full.date >= data_min]\n",
    "    df_full = df_full[df_full.date <= alarm_max]\n",
    "    y = dict(df_full[label_col].value_counts())\n",
    "    if 1 in y.keys():\n",
    "        print('... True labels (alarms)', y[1])\n",
    "    \n",
    "#     print(df_full['label'].value_counts())\n",
    "#     print(df_full.shape[0], len(set(df_full['date'])))\n",
    "    x = df_full[['date', 'label', 'label_1h', 'label_24h']]\n",
    "#     print(x.shape[0], len(set(x['date'])))\n",
    "    \n",
    "    feature_dfs[inverter] = x\n",
    "    print(f\"{inverter} #alarms: {alarm_df_i.shape[0]}, #data points: {x.shape[0]}\")\n",
    "    \n",
    "    "
   ]
  },
  {
   "cell_type": "code",
   "execution_count": null,
   "metadata": {},
   "outputs": [],
   "source": [
    "# dfx = df_full[['date', 'count_alarm', 'delta_alarm', 'label']]\n",
    "# dfx = df_full[['date', 'count_alarm_1h', 'delta_alarm_1h', 'label_1h']]\n",
    "dfx = df_full[['date', 'count_alarm_24h', 'delta_alarm_24h', 'label_24h']]"
   ]
  },
  {
   "cell_type": "code",
   "execution_count": null,
   "metadata": {},
   "outputs": [],
   "source": [
    "alarm_df_i['Raised Time']"
   ]
  },
  {
   "cell_type": "code",
   "execution_count": null,
   "metadata": {},
   "outputs": [],
   "source": [
    "dfx[dfx['date']=='2020-09-17 18:55:00']"
   ]
  },
  {
   "cell_type": "code",
   "execution_count": null,
   "metadata": {},
   "outputs": [],
   "source": [
    "dfx[dfx.label_24h==1]"
   ]
  },
  {
   "cell_type": "code",
   "execution_count": null,
   "metadata": {},
   "outputs": [],
   "source": [
    "dfx.plot(x='date')"
   ]
  },
  {
   "cell_type": "code",
   "execution_count": null,
   "metadata": {},
   "outputs": [],
   "source": [
    "dfx['label_1h'].value_counts()"
   ]
  },
  {
   "cell_type": "code",
   "execution_count": null,
   "metadata": {},
   "outputs": [],
   "source": [
    "pd.to_datetime('2020-12-23 23:50:00') + pd.Timedelta(1, 'H')"
   ]
  },
  {
   "cell_type": "code",
   "execution_count": null,
   "metadata": {},
   "outputs": [],
   "source": [
    "dfx['yearmo'] = dfx['date'].apply(lambda x: f\"{x.year}{x.month:02d}\")\n",
    "dfx['yearmo'].value_counts()"
   ]
  },
  {
   "cell_type": "code",
   "execution_count": null,
   "metadata": {},
   "outputs": [],
   "source": [
    "dfx[dfx.yearmo=='201912'].plot(x='date')"
   ]
  },
  {
   "cell_type": "code",
   "execution_count": null,
   "metadata": {},
   "outputs": [],
   "source": []
  },
  {
   "cell_type": "code",
   "execution_count": null,
   "metadata": {},
   "outputs": [],
   "source": []
  },
  {
   "cell_type": "code",
   "execution_count": null,
   "metadata": {},
   "outputs": [],
   "source": [
    "with open('inverter-labels-v3.pkl', 'wb') as handle:\n",
    "    pickle.dump(feature_dfs, handle, protocol=pickle.HIGHEST_PROTOCOL)"
   ]
  },
  {
   "cell_type": "markdown",
   "metadata": {},
   "source": [
    "| File | Description |\n",
    "| --- | --- |\n",
    "|'inverter-labels-v3.pkl' | no data imputation, 1h and 24h label included\n",
    "|'inverter-labels-v2.pkl' | with data imputation\n",
    "|'inverter-labels.pkl' | no data imputation"
   ]
  },
  {
   "cell_type": "code",
   "execution_count": null,
   "metadata": {},
   "outputs": [],
   "source": [
    "df_full['year'] = df_full.date.dt.year\n",
    "df_full['month'] = df_full.date.dt.month\n",
    "df_plot = df_full[(df_full.year==2019) & (df_full.month==5)]"
   ]
  },
  {
   "cell_type": "code",
   "execution_count": null,
   "metadata": {},
   "outputs": [],
   "source": [
    "df_plot['label'].value_counts()"
   ]
  },
  {
   "cell_type": "code",
   "execution_count": null,
   "metadata": {},
   "outputs": [],
   "source": [
    "df_plot[['date', 'label']].plot(x='date')"
   ]
  },
  {
   "cell_type": "code",
   "execution_count": null,
   "metadata": {},
   "outputs": [],
   "source": [
    "df_plot['label_24h'].value_counts()"
   ]
  },
  {
   "cell_type": "code",
   "execution_count": null,
   "metadata": {},
   "outputs": [],
   "source": [
    "df_plot[['date', 'label_24h']].plot(x='date')"
   ]
  },
  {
   "cell_type": "code",
   "execution_count": null,
   "metadata": {},
   "outputs": [],
   "source": [
    "df_plot[['date', 'label', 'label_24h']].plot(x='date')\n",
    "# plt.plot(df_full['date'], df_full['label'])\n",
    "# plt.plot(df_full['date'], df_full['label_24h'], alpha=0.5)"
   ]
  },
  {
   "cell_type": "code",
   "execution_count": null,
   "metadata": {},
   "outputs": [],
   "source": [
    "duplicate = inv_df_i['date'][inv_df_i['date'].duplicated()] \n",
    "duplicate"
   ]
  },
  {
   "cell_type": "code",
   "execution_count": null,
   "metadata": {},
   "outputs": [],
   "source": [
    "duplicate = df_full['date'][df_full['date'].duplicated()] \n",
    "duplicate.dt.month.value_counts()"
   ]
  },
  {
   "cell_type": "code",
   "execution_count": null,
   "metadata": {},
   "outputs": [],
   "source": [
    "inv_df_i[inv_df_i['date'] == '2019-01-08 00:00:00']"
   ]
  },
  {
   "cell_type": "code",
   "execution_count": null,
   "metadata": {},
   "outputs": [],
   "source": [
    "data_dir = 'data/Inverter'\n",
    "file = 'min190808.csv'\n",
    "df_ = pd.read_csv(os.path.join(data_dir, file))\n",
    "df_[['Time', 'IN.GMRX.CHAR.INV-01.Active Power (kW)', \n",
    "     'IN.GMRX.CHAR.WS-20 MW.Module Temperature (°C)',\n",
    "     'IN.GMRX.CHAR.WS-20 MW.POA Irradiance (w/m²)',\n",
    "     'IN.GMRX.CHAR.WS-5 MW.Module Temperature (°C)',\n",
    "     'IN.GMRX.CHAR.WS-5 MW.POA Irradiance (w/m²)']]"
   ]
  },
  {
   "cell_type": "code",
   "execution_count": null,
   "metadata": {},
   "outputs": [],
   "source": [
    "file = 'min190902.csv'\n",
    "df_ = pd.read_csv(os.path.join(data_dir, file))\n",
    "df_[['Time', 'IN.GMRX.CHAR.INV-01.Active Power (kW)', \n",
    "     'IN.GMRX.CHAR.WS-20 MW.Module Temperature (°C)',\n",
    "     'IN.GMRX.CHAR.WS-20 MW.POA Irradiance (w/m²)',\n",
    "     'IN.GMRX.CHAR.WS-5 MW.Module Temperature (°C)',\n",
    "     'IN.GMRX.CHAR.WS-5 MW.POA Irradiance (w/m²)']]"
   ]
  },
  {
   "cell_type": "code",
   "execution_count": null,
   "metadata": {},
   "outputs": [],
   "source": [
    "from IPython.display import display, HTML\n",
    "cols = ['Time', 'IN.GMRX.CHAR.INV-01.Active Power (kW)', \n",
    "     'IN.GMRX.CHAR.WS-20 MW.Module Temperature (°C)',\n",
    "     'IN.GMRX.CHAR.WS-20 MW.POA Irradiance (w/m²)',\n",
    "     'IN.GMRX.CHAR.WS-5 MW.Module Temperature (°C)',\n",
    "     'IN.GMRX.CHAR.WS-5 MW.POA Irradiance (w/m²)']\n",
    "for file in tqdm(os.listdir(data_dir)):\n",
    "    try:\n",
    "        df_ = pd.read_csv(os.path.join(data_dir, file))\n",
    "        df_[\"date\"] = pd.to_datetime(df_[\"Time\"])\n",
    "        dfx = df_[df_['date'] == '2019-01-09 00:00:00']\n",
    "        if dfx.shape[0] > 0:\n",
    "            print(file)\n",
    "            display(dfx[cols])\n",
    "    except:\n",
    "        print(\"problem\", file)\n"
   ]
  },
  {
   "cell_type": "code",
   "execution_count": null,
   "metadata": {},
   "outputs": [],
   "source": [
    "pd.to_datetime('08-Jan-19 00:00'), pd.to_datetime('01-08-2019 00:00')"
   ]
  },
  {
   "cell_type": "code",
   "execution_count": null,
   "metadata": {},
   "outputs": [],
   "source": [
    "pd.to_datetime('01-08-2019 00:00', format='%d-%m-%Y %H:%M')"
   ]
  },
  {
   "cell_type": "code",
   "execution_count": null,
   "metadata": {},
   "outputs": [],
   "source": [
    "pd.to_datetime('13-Jan-19 00:00'), pd.to_datetime('01-13-2019 00:00')"
   ]
  },
  {
   "cell_type": "code",
   "execution_count": null,
   "metadata": {},
   "outputs": [],
   "source": [
    "s = 'min190801.csv'\n",
    "s[3:7]"
   ]
  },
  {
   "cell_type": "code",
   "execution_count": null,
   "metadata": {},
   "outputs": [],
   "source": []
  },
  {
   "cell_type": "code",
   "execution_count": null,
   "metadata": {},
   "outputs": [],
   "source": []
  },
  {
   "cell_type": "code",
   "execution_count": null,
   "metadata": {},
   "outputs": [],
   "source": []
  },
  {
   "cell_type": "code",
   "execution_count": null,
   "metadata": {},
   "outputs": [],
   "source": [
    "inverter_name = 'INV-509'\n",
    "num_past_days = 1\n",
    "features = ['IN.GMRX.CHAR.'+inverter_name+'.Active Power (kW)', \n",
    "#             'IN.GMRX.CHAR.WS-20 MW.Ambient Temperature (°C)', # all nulls\n",
    "            'IN.GMRX.CHAR.WS-20 MW.Module Temperature (°C)',\n",
    "            'IN.GMRX.CHAR.WS-20 MW.POA Irradiance (w/m²)',\n",
    "#             'IN.GMRX.CHAR.WS-5 MW.Ambient Temperature (°C)',  # all nulls\n",
    "            'IN.GMRX.CHAR.WS-5 MW.Module Temperature (°C)',\n",
    "            'IN.GMRX.CHAR.WS-5 MW.POA Irradiance (w/m²)'\n",
    "           ]\n",
    "columns = ['date'] + features\n",
    "inverter_index = inverters.index(inverter_name)\n",
    "alarm_df_i = alarm_df[alarm_df[\"Controller Name\"] == inverters[inverter_index]].copy()\n",
    "alarm_df_i['Raised Time'] = pd.to_datetime(alarm_df_i['Raised Time'])\n",
    "alarm_df_i = alarm_df_i.sort_values('Raised Time').reset_index(drop=True)\n",
    "print(\"Number of alarms:\", alarm_df_i.shape[0])\n",
    "\n",
    "TIMESTAMP_COL_NAME = 'date'\n",
    "POWER_COL = 'power'\n",
    "inv_df_i = inv_df[columns].copy()\n",
    "inv_df_i['date'] = pd.to_datetime(inv_df_i[\"date\"])\n",
    "inv_df_i.rename(columns={'IN.GMRX.CHAR.'+inverter_name+'.Active Power (kW)': 'power',\n",
    "                        'IN.GMRX.CHAR.WS-20 MW.Module Temperature (°C)': 'temp1',\n",
    "                        'IN.GMRX.CHAR.WS-20 MW.POA Irradiance (w/m²)': 'rad1',\n",
    "                        'IN.GMRX.CHAR.WS-5 MW.Module Temperature (°C)': 'temp2',\n",
    "                        'IN.GMRX.CHAR.WS-5 MW.POA Irradiance (w/m²)': 'rad2'}, inplace=True)\n",
    "inv_df_i['hour'] = inv_df_i.date.dt.hour\n",
    "# inv_df_i = inv_df_i[(inv_df_i.hour >= 6) & (inv_df_i.hour <= 18)]\n",
    "inv_df_i = inv_df_i.sort_values('date').reset_index(drop=True)\n",
    "\n",
    "print('Missing time:', inv_df_i[TIMESTAMP_COL_NAME].isna().sum())\n",
    "print('Missing power:', inv_df_i['power'].isna().sum())\n",
    "inv_df_i\n"
   ]
  },
  {
   "cell_type": "code",
   "execution_count": null,
   "metadata": {},
   "outputs": [],
   "source": [
    "min_date, max_date = inv_df_i.date.min(), inv_df_i.date.max()\n",
    "# min_date, max_date = alarm_df_i['Raised Time'].min() - pd.Timedelta(7, 'D'), alarm_df_i['Raised Time'].max()\n",
    "print(min_date, max_date)\n",
    "\n",
    "df_full = pd.DataFrame({TIMESTAMP_COL_NAME: pd.date_range(\n",
    "                        start=min_date, end=max_date, freq=\"5min\")}).merge(inv_df_i, on='date', how='left')\n",
    "print(df_full[TIMESTAMP_COL_NAME].isna().sum())\n",
    "print(df_full['power'].isna().sum())\n",
    "df_full.head(100)"
   ]
  },
  {
   "cell_type": "code",
   "execution_count": null,
   "metadata": {},
   "outputs": [],
   "source": [
    "df_full['hour'] = df_full['date'].dt.hour\n",
    "# df_full[(df_full['hour'] > 18) & (df_full['hour'] < 6) & (df_full['power'].isna())]\n",
    "# df_full[(df_full['power'].isna()) & (df_full['hour'] > 18) & (df_full['hour'] < 6)]\n",
    "# df_full[(df_full['power'].isna())]['hour'].value_counts()\n",
    "# df_full[(df_full['power'].isna()) & (df_full['hour'] > 18)]['hour'].value_counts()\n",
    "df_full.loc[(df_full['power'].isna()) & (df_full['hour'] > 18), 'power'] = 0\n",
    "df_full.loc[(df_full['power'].isna()) & (df_full['hour'] < 6), 'power'] = 0"
   ]
  },
  {
   "cell_type": "code",
   "execution_count": null,
   "metadata": {},
   "outputs": [],
   "source": [
    "df_full['power'].isna().sum()"
   ]
  },
  {
   "cell_type": "code",
   "execution_count": null,
   "metadata": {},
   "outputs": [],
   "source": [
    "df_full['hour'] = df_full['date'].dt.hour\n",
    "night_hours = df_full[(df_full['power'].isna()) & (df_full['hour'] > 18)]['date']\n",
    "morning_hours = df_full[(df_full['power'].isna()) & (df_full['hour'] < 6)]['date']"
   ]
  },
  {
   "cell_type": "code",
   "execution_count": null,
   "metadata": {},
   "outputs": [],
   "source": [
    "night_hours.to_list()"
   ]
  },
  {
   "cell_type": "markdown",
   "metadata": {},
   "source": [
    "### Get the number of missing days (based on \"power\")"
   ]
  },
  {
   "cell_type": "code",
   "execution_count": null,
   "metadata": {},
   "outputs": [],
   "source": [
    "df_full[['date', 'power']].plot(x='date')"
   ]
  },
  {
   "cell_type": "code",
   "execution_count": null,
   "metadata": {},
   "outputs": [],
   "source": [
    "full_dates = df_full['date'].to_list()\n",
    "inv_dates = set(inv_df_i['date'].to_list())\n",
    "\n",
    "last_na = None\n",
    "count_na = 0\n",
    "na_col = []\n",
    "for ii, dd in enumerate(full_dates):\n",
    "    if dd not in inv_dates:\n",
    "        last_na = ii\n",
    "        count_na += 1\n",
    "    if count_na > 0:\n",
    "        na_col.append(ii-last_na)\n",
    "    else:\n",
    "        na_col.append(ii)\n"
   ]
  },
  {
   "cell_type": "code",
   "execution_count": null,
   "metadata": {},
   "outputs": [],
   "source": [
    "df_full['count_na'] = na_col\n",
    "df_full[['date', 'count_na']].plot(x='date')"
   ]
  },
  {
   "cell_type": "code",
   "execution_count": null,
   "metadata": {},
   "outputs": [],
   "source": []
  },
  {
   "cell_type": "code",
   "execution_count": null,
   "metadata": {},
   "outputs": [],
   "source": []
  },
  {
   "cell_type": "code",
   "execution_count": null,
   "metadata": {},
   "outputs": [],
   "source": []
  },
  {
   "cell_type": "code",
   "execution_count": null,
   "metadata": {},
   "outputs": [],
   "source": [
    "import sys\n",
    "\n",
    "def get_missing_data(current_date, df_, col='power'):\n",
    "#     print(current_date)\n",
    "    df_ = df_.sort_values('date').reset_index(drop=True)\n",
    "    df__ = df_[df_['date'] <= current_date]\n",
    "    if df__[col].isna().sum() == 0:\n",
    "        return 0\n",
    "    else:\n",
    "        last_na_date = df__[df__[col].isna()]['date'].max()\n",
    "        last_index = df__.index[df__[col].isna()].max()\n",
    "        return df__.index.max() - last_index\n",
    "\n",
    "def get_missing_(x):\n",
    "    if np.isnan(x).sum() == 0:\n",
    "        return 0\n",
    "    else:\n",
    "#         print(x)\n",
    "#         print(np.isnan(x))\n",
    "#         print(np.argwhere(np.isnan(x)))\n",
    "        last_index = np.argwhere(np.isnan(x)).max()\n",
    "#         print(len(x) - last_index - 1)\n",
    "        return len(x) - 1 - last_index\n",
    "#         sys.exit('HERE')"
   ]
  },
  {
   "cell_type": "code",
   "execution_count": null,
   "metadata": {},
   "outputs": [],
   "source": [
    "# df_full['count_na'] = df_full['date'].apply(lambda x: get_missing_data(x, df_full))\n",
    "# df_full['count_na'] = df_full['power'].expanding(min_periods=1).apply(lambda x: np.isnan(x).sum(), raw=False)\n",
    "# df_full['count_na'] = df_full['power'].expanding(min_periods=1).apply(lambda x: get_missing_(x), raw=False)\n",
    "df_full['count_na'] = df_full['power'].rolling(window = 7*24*12).apply(lambda x: np.isnan(x).sum())"
   ]
  },
  {
   "cell_type": "code",
   "execution_count": null,
   "metadata": {},
   "outputs": [],
   "source": [
    "df_full['count_na'].isna().sum(), df_full.shape"
   ]
  },
  {
   "cell_type": "code",
   "execution_count": null,
   "metadata": {},
   "outputs": [],
   "source": [
    "df_full[['date', 'count_na']].plot(x='date')"
   ]
  },
  {
   "cell_type": "code",
   "execution_count": null,
   "metadata": {},
   "outputs": [],
   "source": [
    "last_na = None\n",
    "count_na = 0\n",
    "na_col = []\n",
    "for ii, row in tqdm(df_full.iterrows()):\n",
    "    if np.isnan(row['power']):\n",
    "        last_na = ii\n",
    "        count_na += 1\n",
    "    if count_na > 0:\n",
    "        na_col.append(ii-last_na)\n",
    "    else:\n",
    "        na_col.append(ii)\n"
   ]
  },
  {
   "cell_type": "code",
   "execution_count": null,
   "metadata": {},
   "outputs": [],
   "source": [
    "row['power'], type(row['power']), row['power'] == np.datetime64('NaT')"
   ]
  },
  {
   "cell_type": "code",
   "execution_count": null,
   "metadata": {},
   "outputs": [],
   "source": [
    "print(df_full['power'].isna().sum())"
   ]
  },
  {
   "cell_type": "code",
   "execution_count": null,
   "metadata": {},
   "outputs": [],
   "source": [
    "df_full['power'][209]"
   ]
  },
  {
   "cell_type": "code",
   "execution_count": null,
   "metadata": {},
   "outputs": [],
   "source": [
    "df_full['count_na2'] = na_col"
   ]
  },
  {
   "cell_type": "code",
   "execution_count": null,
   "metadata": {},
   "outputs": [],
   "source": [
    "df_full[['date', 'count_na', 'count_na2']].plot(x='date')"
   ]
  },
  {
   "cell_type": "code",
   "execution_count": null,
   "metadata": {},
   "outputs": [],
   "source": [
    "# label generation\n",
    "df_full['count_alarm'] = df_full['date'].apply(lambda x: np.sum(alarm_df_i['Raised Time'] <= x))\n",
    "df_full['delta_alarm'] = df_full['count_alarm'].shift(-1) - df_full['count_alarm']\n",
    "df_full['label'] = df_full['delta_alarm'] > 0"
   ]
  },
  {
   "cell_type": "code",
   "execution_count": null,
   "metadata": {},
   "outputs": [],
   "source": [
    "df_full['label'].value_counts(True)"
   ]
  },
  {
   "cell_type": "code",
   "execution_count": null,
   "metadata": {},
   "outputs": [],
   "source": [
    "df_full['count_na2'].describe()"
   ]
  },
  {
   "cell_type": "code",
   "execution_count": null,
   "metadata": {},
   "outputs": [],
   "source": [
    "df_full2 = df_full[df_full['count_na2'] >= 7 * 24 * 12]\n",
    "df_full2['label'].value_counts(True)"
   ]
  },
  {
   "cell_type": "code",
   "execution_count": null,
   "metadata": {},
   "outputs": [],
   "source": [
    "df_full2[['date', 'power']].plot(x='date')"
   ]
  },
  {
   "cell_type": "code",
   "execution_count": null,
   "metadata": {},
   "outputs": [],
   "source": [
    "def get_missing_dates(df):\n",
    "    last_na = None\n",
    "    count_na = 0\n",
    "    na_col = []\n",
    "    for ii, row in tqdm(df.iterrows()):\n",
    "#         print(ii, row['power'])\n",
    "        if np.isnan(row['power']):\n",
    "            last_na = ii\n",
    "            count_na += 1\n",
    "        if count_na > 0:\n",
    "            na_col.append(ii-last_na)\n",
    "        else:\n",
    "            na_col.append(ii)\n",
    "    return na_col"
   ]
  },
  {
   "cell_type": "code",
   "execution_count": null,
   "metadata": {},
   "outputs": [],
   "source": [
    "y = dict(df_full['label'].value_counts())\n",
    "True in y.keys()"
   ]
  },
  {
   "cell_type": "code",
   "execution_count": null,
   "metadata": {},
   "outputs": [],
   "source": [
    "alarm_df_i"
   ]
  },
  {
   "cell_type": "code",
   "execution_count": null,
   "metadata": {},
   "outputs": [],
   "source": []
  },
  {
   "cell_type": "markdown",
   "metadata": {},
   "source": [
    "## Get all the missing dates"
   ]
  },
  {
   "cell_type": "code",
   "execution_count": null,
   "metadata": {},
   "outputs": [],
   "source": [
    "TIMESTAMP_COL_NAME = 'date'\n",
    "POWER_COL = 'power'\n",
    "for inverter in inverters:\n",
    "\n",
    "    features = ['IN.GMRX.CHAR.'+inverter_name+'.Active Power (kW)', \n",
    "    #             'IN.GMRX.CHAR.WS-20 MW.Ambient Temperature (°C)', # all nulls\n",
    "                'IN.GMRX.CHAR.WS-20 MW.Module Temperature (°C)',\n",
    "                'IN.GMRX.CHAR.WS-20 MW.POA Irradiance (w/m²)',\n",
    "    #             'IN.GMRX.CHAR.WS-5 MW.Ambient Temperature (°C)',  # all nulls\n",
    "                'IN.GMRX.CHAR.WS-5 MW.Module Temperature (°C)',\n",
    "                'IN.GMRX.CHAR.WS-5 MW.POA Irradiance (w/m²)'\n",
    "               ]\n",
    "    columns = ['date'] + features\n",
    "    inv_df_i = inv_df[columns].copy()\n",
    "    inv_df_i['date'] = pd.to_datetime(inv_df_i[\"date\"])\n",
    "    inv_df_i.rename(columns={'IN.GMRX.CHAR.'+inverter_name+'.Active Power (kW)': 'power',\n",
    "                            'IN.GMRX.CHAR.WS-20 MW.Module Temperature (°C)': 'temp1',\n",
    "                            'IN.GMRX.CHAR.WS-20 MW.POA Irradiance (w/m²)': 'rad1',\n",
    "                            'IN.GMRX.CHAR.WS-5 MW.Module Temperature (°C)': 'temp2',\n",
    "                            'IN.GMRX.CHAR.WS-5 MW.POA Irradiance (w/m²)': 'rad2'}, inplace=True)\n",
    "    inv_df_i['hour'] = inv_df_i.date.dt.hour\n",
    "    inv_df_i = inv_df_i.sort_values('date').reset_index(drop=True)\n",
    "\n",
    "    min_date, max_date = inv_df_i.date.min(), inv_df_i.date.max()\n",
    "    df_full = pd.DataFrame({TIMESTAMP_COL_NAME: pd.date_range(\n",
    "                            start=min_date, end=max_date, freq=\"5min\")}).merge(inv_df_i, on='date', how='left')\n",
    "#     print(df_full[TIMESTAMP_COL_NAME].isna().sum())\n",
    "    count_na = df_full['power'].isna().sum()\n",
    "    print(f\"{inverter}- #missing days {count_na}\")\n"
   ]
  },
  {
   "cell_type": "code",
   "execution_count": null,
   "metadata": {},
   "outputs": [],
   "source": [
    "df_full['date'][df_full['power'].isna()].apply(lambda x: x.year).value_counts()"
   ]
  },
  {
   "cell_type": "code",
   "execution_count": null,
   "metadata": {},
   "outputs": [],
   "source": []
  },
  {
   "cell_type": "code",
   "execution_count": null,
   "metadata": {},
   "outputs": [],
   "source": [
    "def fill_timegaps(df_sub, min_date, max_date):\n",
    "    \"\"\"Fill time gaps within a time-series dataframe.\n",
    "    \"\"\"\n",
    "    min_date = df_sub[TIMESTAMP_COL_NAME].min()\n",
    "    timespan = pd.DataFrame(\n",
    "        {\n",
    "            TIMESTAMP_COL_NAME: pd.date_range(\n",
    "                start=min_date, end=max_date, freq=\"D\"),\n",
    "            GRAIN_COL_NAMES[0]: df_sub.iloc[0][GRAIN_COL_NAMES[0]],\n",
    "            GRAIN_COL_NAMES[1]: df_sub.iloc[0][GRAIN_COL_NAMES[1]]\n",
    "        })\n",
    "    df_sub = pd.merge(\n",
    "        df_sub,\n",
    "        timespan,\n",
    "        on=[TIMESTAMP_COL_NAME],\n",
    "        how=\"right\")\n",
    "    df_sub.sort_values(\n",
    "        [TIMESTAMP_COL_NAME]).reset_index(drop=True)\n",
    "    return df_sub\n",
    "\n",
    "TIMESTAMP_COL_NAME = 'date'\n",
    "fill_timegaps(inv_df_i, inv_df_i.date.min(), inv_df_i.date.max())"
   ]
  },
  {
   "cell_type": "code",
   "execution_count": null,
   "metadata": {},
   "outputs": [],
   "source": [
    "start_date, end_date = '2019-07-01', '2019-11-01'\n",
    "mask = (inv_df_i['date'] > start_date) & (inv_df_i['date'] <= end_date)\n",
    "df_plot = inv_df_i.loc[mask]\n",
    "df_plot[['date', 'power']].plot(x='date', kind='line')"
   ]
  },
  {
   "cell_type": "code",
   "execution_count": null,
   "metadata": {},
   "outputs": [],
   "source": [
    "inv_df_i.date.min(), alarm_df_i['Raised Time'].min()"
   ]
  },
  {
   "cell_type": "code",
   "execution_count": null,
   "metadata": {},
   "outputs": [],
   "source": [
    "inv_df_i.date.max()"
   ]
  },
  {
   "cell_type": "code",
   "execution_count": null,
   "metadata": {},
   "outputs": [],
   "source": [
    "inv_df_i['count_alarm'] = inv_df_i['date'].apply(lambda x: np.sum(alarm_df_i['Raised Time'] <= x))\n",
    "# np.sum(alarm_df_i['Raised Time'] <= inv_df_i['date'][261056])\n",
    "inv_df_i['label'] = inv_df_i['count_alarm'].shift(-1) - inv_df_i['count_alarm'] "
   ]
  },
  {
   "cell_type": "code",
   "execution_count": null,
   "metadata": {},
   "outputs": [],
   "source": [
    "inv_df_i['label'].value_counts()"
   ]
  },
  {
   "cell_type": "code",
   "execution_count": null,
   "metadata": {},
   "outputs": [],
   "source": [
    "inv_df_i[inv_df_i['label'] == 27]"
   ]
  },
  {
   "cell_type": "code",
   "execution_count": null,
   "metadata": {},
   "outputs": [],
   "source": [
    "inv_df_i.loc[71802]"
   ]
  },
  {
   "cell_type": "code",
   "execution_count": null,
   "metadata": {},
   "outputs": [],
   "source": [
    "# np.sum(alarm_df_i['Raised Time'] <= inv_df_i['date'][71802])\n",
    "# alarm_df_i[alarm_df_i['Raised Time'] <= pd.to_datetime('2019-09-08 18:55:00')]\n",
    "alarm_df_i[alarm_df_i['Raised Time'] <= pd.to_datetime('2019-10-01 06:00:00')]"
   ]
  },
  {
   "cell_type": "code",
   "execution_count": null,
   "metadata": {},
   "outputs": [],
   "source": [
    "alarm_df_i.head()"
   ]
  },
  {
   "cell_type": "code",
   "execution_count": null,
   "metadata": {},
   "outputs": [],
   "source": []
  },
  {
   "cell_type": "code",
   "execution_count": null,
   "metadata": {},
   "outputs": [],
   "source": []
  },
  {
   "cell_type": "code",
   "execution_count": null,
   "metadata": {},
   "outputs": [],
   "source": []
  },
  {
   "cell_type": "code",
   "execution_count": null,
   "metadata": {},
   "outputs": [],
   "source": [
    "def rolling_features(df, start_step, window_size, funcs):\n",
    "    features = df.shift(start_step).rolling(window_size, min_periods=window_size).agg(funcs)\n",
    "    features.columns = [\"{}_{}{}\".format(x[0], x[1], str(window_size)) for x in features.columns]\n",
    "    return features\n",
    "\n",
    "def create_features(df, colnames, ROLLING_WINDOWS):\n",
    "    # Feature engineering\n",
    "    df[\"day\"] = df[TIMESTAMP_COL_NAME].apply(lambda x: x.day)\n",
    "    df[\"dayofweek\"] = df[TIMESTAMP_COL_NAME].apply(lambda x: x.dayofweek)\n",
    "    df[\"weekofyear\"] = df[TIMESTAMP_COL_NAME].apply(lambda x: x.isocalendar()[1])\n",
    "    df[\"month\"] = df[TIMESTAMP_COL_NAME].apply(lambda x: x.month)\n",
    "\n",
    "    # assume each record is the first day of forecast period so shift rolling calcs back by 1\n",
    "    start_step = 1 \n",
    "    for col in colnames:\n",
    "        for window in ROLLING_WINDOWS:\n",
    "            feats = rolling_features(df[[col]], start_step=1, window_size=window, funcs=[np.mean, np.std]).reset_index(drop=True)\n",
    "            df = pd.concat([df, feats], axis=1)\n",
    "    return df"
   ]
  },
  {
   "cell_type": "code",
   "execution_count": null,
   "metadata": {},
   "outputs": [],
   "source": [
    "# we will create rolling calculation sof sum and std with these window lengths  \n",
    "# since every data point is at 5 minutes interval, 1 day = 12 * 24 data points\n",
    "windows = [x*12*24 for x in [1, 7, 14, 21, 30]] \n",
    "df_ = create_features(inv_df_i, colnames=['power'], ROLLING_WINDOWS=windows)"
   ]
  },
  {
   "cell_type": "code",
   "execution_count": null,
   "metadata": {},
   "outputs": [],
   "source": [
    "df_"
   ]
  },
  {
   "cell_type": "code",
   "execution_count": null,
   "metadata": {},
   "outputs": [],
   "source": [
    "def generate_ts_features(df, alarms, features, inp_window, tgt_window):\n",
    "    dmin, dmax = df_['date'].min(), df_['date'].max()\n",
    "    nestim = 0\n",
    "    df = df.sort_values(by=['date']).reset_index(drop=True)\n",
    "    n = df.shape[0]\n",
    "    feature_df = {\"x\": [], \"y\": [], \"date\": []}\n",
    "    for ind in tqdm(range(n-inp_window-tgt_window)):\n",
    "#     for ind in range(n-inp_window+1):\n",
    "        df_i = df.iloc[ind: ind + inp_window]\n",
    "        x = df_i[features].values\n",
    "        df_o = df.iloc[ind + inp_window : ind + inp_window + tgt_window]\n",
    "        \n",
    "        y = 0\n",
    "        # check if any alarm falls within the output window\n",
    "        for jj in alarms[\"Raised Time\"]:\n",
    "            if jj >= df_o['date'].min() and jj <= df_o['date'].max():\n",
    "                y = 1\n",
    "                break\n",
    "#         print(df_i['date'].min(), df_i['date'].max())\n",
    "#         print(y_tentative)\n",
    "        date_i = df_i[\"date\"].tolist()[-1]\n",
    "        feature_df[\"x\"].append(x)\n",
    "        feature_df[\"y\"].append(y)\n",
    "        feature_df[\"date\"].append(date_i)\n",
    "    return pd.DataFrame(feature_df)\n"
   ]
  },
  {
   "cell_type": "code",
   "execution_count": null,
   "metadata": {},
   "outputs": [],
   "source": [
    "features = ['power', 'temp1', 'rad1', 'temp2', 'rad2', 'hour', 'day',\n",
    "           'dayofweek', 'weekofyear', 'month', 'power_mean288', 'power_std288',\n",
    "           'power_mean2016', 'power_std2016', 'power_mean4032', 'power_std4032',\n",
    "           'power_mean6048', 'power_std6048', 'power_mean8640', 'power_std8640']\n",
    "\n",
    "# 1 day = 12 hours if restriced to morning 6 AM to evening 6 PM\n",
    "# each hour = 12 data points (@5 minutes)\n",
    "inp_window = 2 * 12 * 12\n",
    "tgt_window = 1 * 12 * 12\n",
    "generate_ts_features(df_, alarm_df_i, features, inp_window, tgt_window)"
   ]
  },
  {
   "cell_type": "code",
   "execution_count": null,
   "metadata": {},
   "outputs": [],
   "source": [
    "alarm_df_i.shape, df_.shape"
   ]
  },
  {
   "cell_type": "code",
   "execution_count": null,
   "metadata": {},
   "outputs": [],
   "source": [
    "1637/258954"
   ]
  },
  {
   "cell_type": "code",
   "execution_count": null,
   "metadata": {},
   "outputs": [],
   "source": [
    "# alarm data cannot be merged with inverter data because they are at different granular levels\n",
    "label_df = df_[[\"date\"]].merge(alarm_df_i[['Raised Time']], left_on='date', right_on='Raised Time', how='left').\\\n",
    "           rename(columns={'Raised Time': 'label'})\n",
    "label_df['label'].isna().sum()"
   ]
  },
  {
   "cell_type": "code",
   "execution_count": null,
   "metadata": {},
   "outputs": [],
   "source": [
    "alarm_df_i"
   ]
  },
  {
   "cell_type": "code",
   "execution_count": null,
   "metadata": {},
   "outputs": [],
   "source": [
    "df2 = inv_df_i[['date', 'power']].copy()\n",
    "df2 = df2[df2.date.dt.date == pd.to_datetime('2020-12-23')].reset_index(drop=True)\n",
    "df2.plot(x='date')"
   ]
  },
  {
   "cell_type": "code",
   "execution_count": null,
   "metadata": {},
   "outputs": [],
   "source": [
    "f = df2.rolling(12).agg(np.std).reset_index(drop=True)\n",
    "f.columns = ['agg']\n",
    "df2 = pd.concat([df2, f], axis=1)\n",
    "df2.plot(x='date')"
   ]
  },
  {
   "cell_type": "code",
   "execution_count": null,
   "metadata": {},
   "outputs": [],
   "source": [
    "alarms = []\n",
    "last_alarm = False\n",
    "count = 0\n",
    "for _, row in alarm_df_i.iterrows():\n",
    "    if last_alarm:\n",
    "        dt = row['Raised Time'] - last_alarm\n",
    "        if dt.total_seconds()/60 > 5:\n",
    "            alarms.append((row['Raised Time'], row['Error Code']))\n",
    "        else:\n",
    "#             print(last_alarm, row['Raised Time'])\n",
    "            count += 1\n",
    "    last_alarm = row['Raised Time']\n",
    "print(len(alarms), count)"
   ]
  },
  {
   "cell_type": "code",
   "execution_count": null,
   "metadata": {},
   "outputs": [],
   "source": [
    "alarms"
   ]
  },
  {
   "cell_type": "code",
   "execution_count": null,
   "metadata": {},
   "outputs": [],
   "source": [
    "count = 0\n",
    "all_df = []\n",
    "for inverter in inverters:\n",
    "    \n",
    "    alarm_df_i = alarm_df[alarm_df[\"Controller Name\"] == inverter].copy()\n",
    "    alarm_df_i['Raised Time'] = pd.to_datetime(alarm_df_i['Raised Time'])\n",
    "    alarm_df_i = alarm_df_i.sort_values('Raised Time').reset_index(drop=True)\n",
    "\n",
    "    df_t = alarm_df_i[['Raised Time']].copy()\n",
    "    df_t['shifted'] = df_t['Raised Time'].shift(-1)\n",
    "    df_t['diff'] = df_t['shifted'] - df_t['Raised Time']\n",
    "    df_t['diff'] = df_t['diff'].apply(lambda x: x.total_seconds()/60)\n",
    "    print(f\"{inverter}- #alarms {alarm_df_i.shape[0]}, actual {np.sum(df_t['diff'] < 5)}\")\n",
    "    count += np.sum(df_t['diff'] < 5)\n",
    "    all_df.append(df_t)\n",
    "print(count)"
   ]
  },
  {
   "cell_type": "code",
   "execution_count": null,
   "metadata": {},
   "outputs": [],
   "source": [
    "all_df = pd.concat(all_df, axis=0)\n",
    "all_df['diff'].describe()"
   ]
  },
  {
   "cell_type": "code",
   "execution_count": null,
   "metadata": {},
   "outputs": [],
   "source": [
    "alarm_df.shape"
   ]
  },
  {
   "cell_type": "code",
   "execution_count": null,
   "metadata": {},
   "outputs": [],
   "source": [
    "# n, bins, patches = plt.hist(x, num_bins, facecolor='blue', alpha=0.5)\n",
    "\n",
    "n, bins, patches = plt.hist(all_df['diff'], \n",
    "                            bins=[1.16666667e-01, 1, 2, 3, 4, 5, 10, \n",
    "                                  2.81441683e+04, 5.62882200e+04, 8.44322717e+04,\n",
    "                                    1.12576323e+05, 1.40720375e+05, 1.68864427e+05,\n",
    "                                    5.62881150e+05], facecolor='blue', alpha=0.5)\n",
    "# sns.histplot(all_df['diff'], bins=20)\n",
    "plt.show()\n"
   ]
  },
  {
   "cell_type": "code",
   "execution_count": null,
   "metadata": {},
   "outputs": [],
   "source": [
    "inverter = 'INV-16'\n",
    "code_map = {7006: 1, 7501: 2, 7502: 3, 3511: 4, 3504: 5, 6448: 6, 7704: 7, 1500: 0}\n",
    "\n",
    "for inverter in inverters:\n",
    "    alarm_df_i = alarm_df[alarm_df[\"Controller Name\"] == inverter].copy()\n",
    "    alarm_df_i['Raised Time'] = pd.to_datetime(alarm_df_i['Raised Time'])\n",
    "    alarm_df_i = alarm_df_i.sort_values('Raised Time').reset_index(drop=True)\n",
    "    alarm_df_i['scaled'] = alarm_df_i['Error Code'].map(code_map)\n",
    "    alarm_df_i[['Raised Time', 'scaled']].plot(x='Raised Time', title=f\"{inverter}, total alarms: {alarm_df_i.shape[0]}\")\n",
    "    print(inverter, alarm_df_i['Error Code'].value_counts())"
   ]
  },
  {
   "cell_type": "code",
   "execution_count": null,
   "metadata": {},
   "outputs": [],
   "source": [
    "len(inverters)"
   ]
  },
  {
   "cell_type": "code",
   "execution_count": null,
   "metadata": {},
   "outputs": [],
   "source": []
  },
  {
   "cell_type": "code",
   "execution_count": null,
   "metadata": {},
   "outputs": [],
   "source": [
    "alarm_df['Error Code'].value_counts()"
   ]
  },
  {
   "cell_type": "code",
   "execution_count": null,
   "metadata": {},
   "outputs": [],
   "source": []
  }
 ],
 "metadata": {
  "kernelspec": {
   "display_name": "Python 3",
   "language": "python",
   "name": "python3"
  },
  "language_info": {
   "codemirror_mode": {
    "name": "ipython",
    "version": 3
   },
   "file_extension": ".py",
   "mimetype": "text/x-python",
   "name": "python",
   "nbconvert_exporter": "python",
   "pygments_lexer": "ipython3",
   "version": "3.7.7"
  }
 },
 "nbformat": 4,
 "nbformat_minor": 4
}
