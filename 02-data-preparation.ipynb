{
 "cells": [
  {
   "cell_type": "markdown",
   "metadata": {},
   "source": [
    "## Combining All Monthly/Daily Data to SIngle DataFrame\n",
    "\n",
    "    - also checks for mismatch or inconsistency in data format"
   ]
  },
  {
   "cell_type": "code",
   "execution_count": null,
   "metadata": {},
   "outputs": [],
   "source": [
    "import pandas as pd\n",
    "from tqdm import tqdm"
   ]
  },
  {
   "cell_type": "code",
   "execution_count": null,
   "metadata": {},
   "outputs": [],
   "source": [
    "def convert_to_date(x):\n",
    "    s = str(x)\n",
    "    s = s.strip()\n",
    "    s = s.split(\" \")[0]\n",
    "    if len(s.split(\"-\")[0]) == 4:\n",
    "        return pd.to_datetime(x, format='%Y-%d-%m %H:%M:%S')\n",
    "    elif len(s.split(\"-\")[2]) == 4:\n",
    "        return pd.to_datetime(x, format='%d-%m-%Y %H:%M:%S')\n",
    "    else:\n",
    "        print(s, s.split(\"-\")[2])\n",
    "        sys.exit()\n",
    "        \n",
    "def get_hod(row):\n",
    "    x = row['Raised Time']\n",
    "    s = str(x)\n",
    "    s = s.strip()\n",
    "    s = s.split(\" \")[0]\n",
    "    if len(s.split(\"-\")[0]) == 4:\n",
    "        dts = pd.to_datetime(x, format='%Y-%d-%m %H:%M:%S')\n",
    "        return dts.hour\n",
    "    elif len(s.split(\"-\")[2]) == 4:\n",
    "        dts = pd.to_datetime(x, format='%d-%m-%Y %H:%M:%S')\n",
    "        return dts.hour\n",
    "    else:\n",
    "        print(s, s.split(\"-\")[2])\n",
    "        sys.exit()\n"
   ]
  },
  {
   "cell_type": "code",
   "execution_count": null,
   "metadata": {},
   "outputs": [],
   "source": [
    "data_dir = 'data/Alarms/'\n",
    "os.listdir(data_dir)"
   ]
  },
  {
   "cell_type": "code",
   "execution_count": null,
   "metadata": {},
   "outputs": [],
   "source": [
    "df_ = pd.read_excel(\n",
    "             os.path.join(data_dir, 'Alarms_October2020.xlsx'),\n",
    "             engine='openpyxl',\n",
    "             converters= {'Raised Time': convert_to_date, 'Resolved Time': convert_to_date}\n",
    "        )\n"
   ]
  },
  {
   "cell_type": "code",
   "execution_count": null,
   "metadata": {},
   "outputs": [],
   "source": [
    "df_"
   ]
  },
  {
   "cell_type": "code",
   "execution_count": null,
   "metadata": {},
   "outputs": [],
   "source": [
    "data_dir = 'data/Alarms/'\n",
    "# adata = pd.ExcelFile(os.path.join(data_dir, 'Alarms_April2019.xlsx'))\n",
    "# sheets = adata.sheet_names\n",
    "# print(sheets)\n",
    "# sheet_index = sheets.index('Alarms')\n",
    "# df1 = pd.read_excel(adata, \n",
    "#                         sheets[sheet_index], \n",
    "#                         sep=r'\\s*,\\s*', \n",
    "#                         converters= {'Raised Time': convert_to_date, 'Resolved Time': convert_to_date})\n",
    "\n",
    "all_dfs = []\n",
    "for file in tqdm(os.listdir(data_dir)):\n",
    "    df_ = pd.read_excel(\n",
    "                 os.path.join(data_dir, file),\n",
    "                 engine='openpyxl',\n",
    "                 converters= {'Raised Time': convert_to_date, 'Resolved Time': convert_to_date}\n",
    "            )\n",
    "    try:\n",
    "        df_ = df_[df_[\"Condition Name\"].str.contains(\"Inverter event\")]\n",
    "        df_ = df_[~df_['Message'].isnull()] # remove null strings\n",
    "        df_[\"Error Code\"] = df_[\"Message\"].apply(lambda x: x.split(\": \")[1])\n",
    "        df_['hod'] = df_.apply(get_hod, axis=1)\n",
    "    #     df__ = df_[(df_.hod >= 6) & (df_.hod <= 17)]\n",
    "        all_dfs.append(df_)\n",
    "    except:\n",
    "        print(\"Format mismatch\", file)"
   ]
  },
  {
   "cell_type": "code",
   "execution_count": null,
   "metadata": {},
   "outputs": [],
   "source": [
    "df_combined = pd.concat(all_dfs, axis=0)\n"
   ]
  },
  {
   "cell_type": "code",
   "execution_count": null,
   "metadata": {},
   "outputs": [],
   "source": [
    "df_combined"
   ]
  },
  {
   "cell_type": "code",
   "execution_count": null,
   "metadata": {},
   "outputs": [],
   "source": [
    "dfc2 = df_combined[(df_combined.hod >= 6) & (df_combined.hod <= 17)]\n",
    "dfg = dfc2.groupby('Error Code')\n",
    "dfg[\"Controller Name\"].count().reset_index().sort_values(['Controller Name'], ascending=False)"
   ]
  },
  {
   "cell_type": "code",
   "execution_count": null,
   "metadata": {},
   "outputs": [],
   "source": [
    "df_combined.to_csv(\"all_alarms.csv\", index=False, header=True)"
   ]
  },
  {
   "cell_type": "code",
   "execution_count": null,
   "metadata": {},
   "outputs": [],
   "source": [
    "df_"
   ]
  },
  {
   "cell_type": "code",
   "execution_count": null,
   "metadata": {},
   "outputs": [],
   "source": []
  },
  {
   "cell_type": "code",
   "execution_count": null,
   "metadata": {},
   "outputs": [],
   "source": []
  },
  {
   "cell_type": "code",
   "execution_count": null,
   "metadata": {},
   "outputs": [],
   "source": [
    "print(df1.shape, df_temp2.shape)"
   ]
  },
  {
   "cell_type": "code",
   "execution_count": null,
   "metadata": {},
   "outputs": [],
   "source": []
  },
  {
   "cell_type": "code",
   "execution_count": null,
   "metadata": {},
   "outputs": [],
   "source": [
    "df1 = pd.read_excel(\n",
    "             os.path.join(data_dir, 'Alarms_April2019.xlsx'),\n",
    "             engine='openpyxl',\n",
    "             converters= {'Raised Time': convert_to_date, 'Resolved Time': convert_to_date}\n",
    "        )\n",
    "df1 = df1[df1[\"Condition Name\"].str.contains(\"Inverter event\")]\n"
   ]
  },
  {
   "cell_type": "code",
   "execution_count": null,
   "metadata": {},
   "outputs": [],
   "source": [
    "df1"
   ]
  },
  {
   "cell_type": "code",
   "execution_count": null,
   "metadata": {},
   "outputs": [],
   "source": [
    "import pandas as pd\n",
    "import os\n",
    "from tqdm import tqdm"
   ]
  },
  {
   "cell_type": "code",
   "execution_count": null,
   "metadata": {},
   "outputs": [],
   "source": [
    "data_dir = 'data/SMB/'\n",
    "# df_ = pd.read_csv(os.path.join(data_dir, 'min180501_smb.csv'))\n",
    "all_dfs = []\n",
    "year = '18'\n",
    "for file in tqdm(os.listdir(data_dir)):\n",
    "    year_f = file[3:5]\n",
    "    if year_f != year:\n",
    "        df_combined = pd.concat(all_dfs, axis=0)\n",
    "        df_combined.to_csv(\"all_smbs_\"+year+\".csv\", index=False, header=True)\n",
    "        all_dfs = []\n",
    "        year = year_f\n",
    "    try:\n",
    "        df_ = pd.read_csv(os.path.join(data_dir, file))\n",
    "        df_[\"date\"] = pd.to_datetime(df_[\"Time\"])\n",
    "        all_dfs.append(df_)\n",
    "    except:\n",
    "        print(\"problem\", file)\n",
    "df_combined = pd.concat(all_dfs, axis=0)\n",
    "df_combined.to_csv(\"all_smbs_\"+year+\".csv\", index=False, header=True)"
   ]
  },
  {
   "cell_type": "code",
   "execution_count": null,
   "metadata": {},
   "outputs": [],
   "source": [
    "df_.head()"
   ]
  },
  {
   "cell_type": "code",
   "execution_count": null,
   "metadata": {},
   "outputs": [],
   "source": [
    "df_.columns.tolist()"
   ]
  },
  {
   "cell_type": "code",
   "execution_count": null,
   "metadata": {},
   "outputs": [],
   "source": [
    "# data format is different for the month of August'2019\n",
    "# for all the other months pd.to_datetime() without any format is sufficient\n",
    "# for Aug'19 we have to use: pd.to_datetime('01-08-2019 00:00', format='%d-%m-%Y %H:%M')\n",
    "# min1908xx.csv'\n",
    "# same for the four days of September'19\n",
    "data_dir = 'data/Inverter'\n",
    "all_dfs = []\n",
    "for file in tqdm(os.listdir(data_dir)):\n",
    "    try:\n",
    "        df_ = pd.read_csv(os.path.join(data_dir, file))\n",
    "        if file[3:7] == '1908' or file[3:7] == '1909':\n",
    "            df_[\"date\"] = pd.to_datetime(df_[\"Time\"], format='%d-%m-%Y %H:%M')\n",
    "        else:\n",
    "            df_[\"date\"] = pd.to_datetime(df_[\"Time\"])\n",
    "        all_dfs.append(df_)\n",
    "    except:\n",
    "        print(\"problem\", file)\n",
    "df_combined = pd.concat(all_dfs, axis=0)\n",
    "df_combined.to_csv(\"all_inverters.csv\", index=False, header=True)"
   ]
  },
  {
   "cell_type": "code",
   "execution_count": null,
   "metadata": {},
   "outputs": [],
   "source": [
    "df_combined.head()"
   ]
  },
  {
   "cell_type": "code",
   "execution_count": null,
   "metadata": {},
   "outputs": [],
   "source": []
  }
 ],
 "metadata": {
  "kernelspec": {
   "display_name": "Python 3.6 - AzureML",
   "language": "python",
   "name": "python3-azureml"
  },
  "language_info": {
   "codemirror_mode": {
    "name": "ipython",
    "version": 3
   },
   "file_extension": ".py",
   "mimetype": "text/x-python",
   "name": "python",
   "nbconvert_exporter": "python",
   "pygments_lexer": "ipython3",
   "version": "3.6.9"
  }
 },
 "nbformat": 4,
 "nbformat_minor": 4
}
