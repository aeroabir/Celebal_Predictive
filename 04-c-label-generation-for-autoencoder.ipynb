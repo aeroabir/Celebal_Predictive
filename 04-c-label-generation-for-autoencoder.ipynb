{
 "cells": [
  {
   "cell_type": "markdown",
   "metadata": {},
   "source": [
    "## Generate Training Data for AutoEncoder/Seq2seq Models\n",
    "\n",
    "    - input: histories for t-th day, output: histories of the (t+1) day\n",
    "    - input can be modified to have multiple days\n",
    "    - similarly, output can also span multiple days"
   ]
  },
  {
   "cell_type": "code",
   "execution_count": null,
   "metadata": {},
   "outputs": [],
   "source": [
    "import datetime\n",
    "import pandas as pd\n",
    "import random\n",
    "import matplotlib.pyplot as plt\n",
    "import numpy as np\n",
    "import pickle\n",
    "import random"
   ]
  },
  {
   "cell_type": "code",
   "execution_count": null,
   "metadata": {},
   "outputs": [],
   "source": [
    "inv_df = pd.read_csv('all_inverters.csv')\n",
    "inv_df.head()"
   ]
  },
  {
   "cell_type": "code",
   "execution_count": null,
   "metadata": {},
   "outputs": [],
   "source": [
    "inverters = \\\n",
    "['INV-01',\n",
    " 'INV-02',\n",
    " 'INV-03',\n",
    " 'INV-05',\n",
    " 'INV-06',\n",
    " 'INV-07',\n",
    " 'INV-09',\n",
    " 'INV-10',\n",
    " 'INV-11',\n",
    " 'INV-13',\n",
    " 'INV-14',\n",
    " 'INV-15',\n",
    " 'INV-16',\n",
    " 'INV-17',\n",
    " 'INV-18',\n",
    " 'INV-19',\n",
    " 'INV-20',\n",
    " 'INV-21',\n",
    " 'INV-23',\n",
    " 'INV-24',\n",
    " 'INV-26',\n",
    " 'INV-27',\n",
    " 'INV-28',\n",
    " 'INV-29',\n",
    " 'INV-31',\n",
    " 'INV-32',\n",
    " 'INV-33',\n",
    " 'INV-34',\n",
    " 'INV-35',\n",
    " 'INV-36',\n",
    " 'INV-501',\n",
    " 'INV-502',\n",
    " 'INV-503',\n",
    " 'INV-504',\n",
    " 'INV-505',\n",
    " 'INV-506',\n",
    " 'INV-507',\n",
    " 'INV-508',\n",
    " 'INV-509']"
   ]
  },
  {
   "cell_type": "code",
   "execution_count": null,
   "metadata": {},
   "outputs": [],
   "source": [
    "TIMESTAMP_COL_NAME = 'date'\n",
    "min_past_days = 1\n",
    "remove_night = False\n",
    "\n",
    "count_row = min_past_days * 24 * 12\n",
    "X, Y = [], []\n",
    "\n",
    "for inverter in inverters:\n",
    "    features = ['IN.GMRX.CHAR.'+inverter+'.Active Power (kW)', \n",
    "    #             'IN.GMRX.CHAR.WS-20 MW.Ambient Temperature (°C)', # all nulls\n",
    "                'IN.GMRX.CHAR.WS-20 MW.Module Temperature (°C)',\n",
    "                'IN.GMRX.CHAR.WS-20 MW.POA Irradiance (w/m²)',\n",
    "    #             'IN.GMRX.CHAR.WS-5 MW.Ambient Temperature (°C)',  # all nulls\n",
    "                'IN.GMRX.CHAR.WS-5 MW.Module Temperature (°C)',\n",
    "                'IN.GMRX.CHAR.WS-5 MW.POA Irradiance (w/m²)'\n",
    "               ]\n",
    "    columns = ['date'] + features\n",
    "    inv_df_i = inv_df[columns].copy()\n",
    "#     print(inv_df_i.shape[0], len(set(inv_df_i['date'])))\n",
    "    \n",
    "    inv_df_i['date'] = pd.to_datetime(inv_df_i[\"date\"])\n",
    "    inv_df_i.rename(columns={'IN.GMRX.CHAR.'+inverter+'.Active Power (kW)': 'power',\n",
    "                            'IN.GMRX.CHAR.WS-20 MW.Module Temperature (°C)': 'temp1',\n",
    "                            'IN.GMRX.CHAR.WS-20 MW.POA Irradiance (w/m²)': 'rad1',\n",
    "                            'IN.GMRX.CHAR.WS-5 MW.Module Temperature (°C)': 'temp2',\n",
    "                            'IN.GMRX.CHAR.WS-5 MW.POA Irradiance (w/m²)': 'rad2'}, inplace=True)\n",
    "    inv_df_i['hour'] = inv_df_i.date.dt.hour\n",
    "    \n",
    "#     inv_df_i = inv_df_i[(inv_df_i['date'] >= data_min) & (inv_df_i['date'] <= alarm_max)]\n",
    "    # inv_df_i = inv_df_i[(inv_df_i.hour >= 6) & (inv_df_i.hour <= 18)]\n",
    "    inv_df_i = inv_df_i.sort_values('date').reset_index(drop=True)\n",
    "#     print(inv_df_i.shape[0], len(set(inv_df_i['date'])))\n",
    "\n",
    "    min_date, max_date = inv_df_i.date.min(), inv_df_i.date.max()\n",
    "    df_full = pd.DataFrame({TIMESTAMP_COL_NAME: pd.date_range(\n",
    "                            start=min_date, end=max_date, freq=\"5min\")}).merge(inv_df_i, on='date', how='left')\n",
    "#     print(df_full[TIMESTAMP_COL_NAME].isna().sum(), df_full['power'].isna().sum())\n",
    "\n",
    "    df_full.loc[(df_full['power'].isna()) & (df_full['hour'] > 18), 'power'] = 0\n",
    "    df_full.loc[(df_full['power'].isna()) & (df_full['hour'] < 6), 'power'] = 0\n",
    "    \n",
    "    # backward window - check for past data availability\n",
    "    df_full['power_count_b'] = df_full['power'].rolling(count_row).count()\n",
    "    df_full['temp1_count_b'] = df_full['temp1'].rolling(count_row).count()\n",
    "    df_full['rad1_count_b'] = df_full['rad1'].rolling(count_row).count()\n",
    "    \n",
    "    # forward window - check for future data availability\n",
    "    df_full['power_count_f'] = df_full['power'][::-1].rolling(count_row).count()[::-1]\n",
    "    df_full['temp1_count_f'] = df_full['temp1'][::-1].rolling(count_row).count()[::-1]\n",
    "    df_full['rad1_count_f'] = df_full['rad1'][::-1].rolling(count_row).count()[::-1]\n",
    "    \n",
    "    df_full['minute'] = df_full.date.dt.minute\n",
    "    \n",
    "    df_feature = df_full[(df_full.power_count_b==count_row) &\\\n",
    "                         (df_full.temp1_count_b==count_row) &\\\n",
    "                         (df_full.rad1_count_b==count_row) &\\\n",
    "                         (df_full.power_count_f==count_row) &\\\n",
    "                         (df_full.temp1_count_f==count_row) &\\\n",
    "                         (df_full.rad1_count_f==count_row) &\\\n",
    "                         (df_full.hour == 6)  & (df_full.minute == 0)]\n",
    "    count_data = 0\n",
    "    \n",
    "    for ii, row in df_feature.iterrows():\n",
    "\n",
    "        date_index = df_full[df_full['date'] == row['date']].index[0]\n",
    "        if remove_night:\n",
    "            inp_start, inp_end = date_index - count_row, int(date_index - count_row/2)\n",
    "            out_start, out_end = date_index, int(date_index + count_row/2)\n",
    "            seq_len = count_row/2\n",
    "        else:\n",
    "            inp_start, inp_end = date_index - count_row, date_index\n",
    "            out_start, out_end = date_index, date_index + count_row\n",
    "            seq_len = count_row\n",
    "        \n",
    "        inp_df = df_full.iloc[inp_start:inp_end]\n",
    "        out_df = df_full.iloc[out_start:out_end]\n",
    "        if inp_df.shape[0] == seq_len and out_df.shape[0] == seq_len:\n",
    "            x_ii = inp_df[['power', 'temp1', 'rad1']].values\n",
    "            y_ii = out_df[['power', 'temp1', 'rad1']].values\n",
    "            X.append(x_ii)\n",
    "            Y.append(y_ii)\n",
    "            count_data += 1\n",
    "    print(inverter, df_feature.shape[0], count_data)\n",
    "\n",
    "X_ = np.stack(X, axis=0)\n",
    "Y_ = np.stack(Y, axis=0)"
   ]
  },
  {
   "cell_type": "code",
   "execution_count": null,
   "metadata": {},
   "outputs": [],
   "source": [
    "df_full"
   ]
  },
  {
   "cell_type": "code",
   "execution_count": null,
   "metadata": {},
   "outputs": [],
   "source": [
    "# X_ = np.stack(X, axis=0)\n",
    "# Y_ = np.stack(Y, axis=0)\n",
    "X_.shape, Y_.shape"
   ]
  },
  {
   "cell_type": "code",
   "execution_count": null,
   "metadata": {},
   "outputs": [],
   "source": [
    "with open('autoencoder-data-1d.pkl', 'wb') as handle:\n",
    "    pickle.dump([X_, Y_], handle, protocol=pickle.HIGHEST_PROTOCOL)"
   ]
  },
  {
   "cell_type": "code",
   "execution_count": null,
   "metadata": {},
   "outputs": [],
   "source": [
    "import random\n",
    "\n",
    "def plot_sample(example_X, example_Y, num_samples=1):\n",
    "    len_x, len_y = example_X.shape[1], example_Y.shape[1]\n",
    "    shifted_x = [x+len_x for x in range(len_y)]\n",
    "    for ii in range(num_samples):\n",
    "        cnum = random.randint(0, len(example_X))\n",
    "        f = plt.figure(ii+1, figsize=(15,4))\n",
    "        ax1 = f.add_subplot(131)\n",
    "        ax2 = f.add_subplot(132)\n",
    "        ax3 = f.add_subplot(133)\n",
    "\n",
    "        ax1.plot(example_X[cnum,:, 0])\n",
    "        ax1.plot(shifted_x, example_Y[cnum,:,0])  # , 'bo--'\n",
    "#         ax1.plot(shifted_x, predictions[cnum,:,0])  # , 'r+'\n",
    "        ax1.title.set_text('Power')\n",
    "\n",
    "        ax2.plot(example_X[cnum,:, 1])\n",
    "        ax2.plot(shifted_x, example_Y[cnum,:,1])  # , 'bo--'\n",
    "#         ax2.plot(shifted_x, predictions[cnum,:,1])  # , 'r+'\n",
    "        ax2.title.set_text('Temperature')\n",
    "\n",
    "        ax3.plot(example_X[cnum,:, 2])\n",
    "        ax3.plot(shifted_x, example_Y[cnum,:,2])  # , 'bo--'\n",
    "#         ax3.plot(shifted_x, predictions[cnum,:,2])  # , 'r+'\n",
    "        ax3.title.set_text('Irradiance')\n"
   ]
  },
  {
   "cell_type": "code",
   "execution_count": null,
   "metadata": {},
   "outputs": [],
   "source": [
    "plot_sample(X_, Y_, 5)"
   ]
  },
  {
   "cell_type": "code",
   "execution_count": null,
   "metadata": {},
   "outputs": [],
   "source": [
    "def count_nan(df):\n",
    "    print(df)\n",
    "    sys.exit(\"HERE\")\n",
    "    \n",
    "df_full['power'].rolling(min_past_days * 24 * 12).count() # apply(count_nan)"
   ]
  },
  {
   "cell_type": "code",
   "execution_count": null,
   "metadata": {},
   "outputs": [],
   "source": []
  }
 ],
 "metadata": {
  "kernelspec": {
   "display_name": "Python 3",
   "language": "python",
   "name": "python3"
  },
  "language_info": {
   "codemirror_mode": {
    "name": "ipython",
    "version": 3
   },
   "file_extension": ".py",
   "mimetype": "text/x-python",
   "name": "python",
   "nbconvert_exporter": "python",
   "pygments_lexer": "ipython3",
   "version": "3.7.7"
  }
 },
 "nbformat": 4,
 "nbformat_minor": 4
}
